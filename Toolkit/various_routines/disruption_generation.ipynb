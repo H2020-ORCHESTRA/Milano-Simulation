{
 "cells": [
  {
   "attachments": {},
   "cell_type": "markdown",
   "metadata": {},
   "source": [
    "# Disruption geneation for Milano Area PT\n",
    "Author Ilias Parmaksizoglou\n",
    "\n",
    "This notebook provided a description on how to generate a disruption via a single python interface for the examined Milano area. GTFS files have been transformed to the needed standards based on GTFS_integration.ipynb file. "
   ]
  },
  {
   "attachments": {},
   "cell_type": "markdown",
   "metadata": {},
   "source": [
    "We are going to need some of the existing routines to load the GTFS file. Particularly we will make use of the wrapper to read the testcase for the examined day (1st of June) in this example."
   ]
  },
  {
   "cell_type": "code",
   "execution_count": 4,
   "metadata": {},
   "outputs": [],
   "source": [
    "from TransitRouting.misc_gtfs_functions import *\n",
    "from TransitRouting.raptor import raptor\n",
    "import pandas as pd\n",
    "import numpy as np"
   ]
  },
  {
   "cell_type": "markdown",
   "metadata": {},
   "source": [
    "We will proceed to load the modified milano GTFS and break it down to its network representation "
   ]
  },
  {
   "cell_type": "code",
   "execution_count": 5,
   "metadata": {},
   "outputs": [
    {
     "name": "stdout",
     "output_type": "stream",
     "text": [
      "Building required dictionaries\n",
      "building stops dict\n"
     ]
    },
    {
     "name": "stderr",
     "output_type": "stream",
     "text": [
      "100%|██████████| 21917/21917 [00:04<00:00, 4778.07it/s]\n"
     ]
    },
    {
     "name": "stdout",
     "output_type": "stream",
     "text": [
      "Incorrect time sequence in stoptimes builder file\n",
      "stops_dict done\n",
      "building stoptimes dict\n"
     ]
    },
    {
     "name": "stderr",
     "output_type": "stream",
     "text": [
      "100%|██████████| 639/639 [00:11<00:00, 55.74it/s] \n"
     ]
    },
    {
     "name": "stdout",
     "output_type": "stream",
     "text": [
      "stoptimes dict done\n",
      "building routes_by_stop\n",
      "routes_by_stop done\n",
      "building footpath dict..\n"
     ]
    },
    {
     "name": "stderr",
     "output_type": "stream",
     "text": [
      "100%|██████████| 2371/2371 [00:04<00:00, 495.92it/s]\n"
     ]
    },
    {
     "name": "stdout",
     "output_type": "stream",
     "text": [
      "transfers_dict done\n",
      "idx_by_route_stop done\n",
      "routesindx_by_stop_dict done\n"
     ]
    }
   ],
   "source": [
    "area = 'milano'\n",
    "stops_file, trips_file, stop_times_file, transfers_file,\\\n",
    "stops_dict,stoptimes_dict, footpath_dict, routes_by_stop_dict,\\\n",
    "idx_by_route_stop_dict,routesindx_by_stop_dict = read_testcase(f'./{area}')"
   ]
  },
  {
   "cell_type": "markdown",
   "metadata": {},
   "source": [
    "To align with user input we will also load the trips.txt file from the local directory. "
   ]
  },
  {
   "cell_type": "code",
   "execution_count": 6,
   "metadata": {},
   "outputs": [
    {
     "name": "stdout",
     "output_type": "stream",
     "text": [
      "The user arrives at the airport at 2023-06-01 11:30:00 using 1 mode(s).\n"
     ]
    },
    {
     "data": {
      "text/plain": [
       "[('walking',\n",
       "  3758,\n",
       "  4151.0,\n",
       "  Timedelta('0 days 00:00:02'),\n",
       "  Timestamp('2023-06-01 10:15:02')),\n",
       " (Timestamp('2023-06-01 10:20:00'),\n",
       "  4151,\n",
       "  4155,\n",
       "  Timestamp('2023-06-01 11:30:00'),\n",
       "  '1003_28')]"
      ]
     },
     "execution_count": 6,
     "metadata": {},
     "output_type": "execute_result"
    }
   ],
   "source": [
    "# Start time at 12:05\n",
    "D_TIME = pd.Timestamp(year=2023,month=6,day=1,\n",
    "                    hour = 615//60,\n",
    "                    minute=615%60)\n",
    "\n",
    "# Centrale node is 4176,4181 MXP node is 4150,4155 we assume a maximum of two modes to be used and a minimum of two minutes between mode exchange\n",
    "S_TIME,E_TIME,TRANSFERS,TRANS_ROUTE = raptor(3758,4155,D_TIME,1,120,\n",
    "routes_by_stop_dict,stops_dict,stoptimes_dict,footpath_dict,idx_by_route_stop_dict)\n",
    "\n",
    "print(f\"The user arrives at the airport at {E_TIME} using {TRANSFERS} mode(s).\")\n",
    "TRANS_ROUTE"
   ]
  },
  {
   "cell_type": "code",
   "execution_count": 22,
   "metadata": {},
   "outputs": [],
   "source": [
    "trips = pd.read_csv(\"TransitRouting/GTFS/milano/gtfs_o/trips.txt\",low_memory=False)"
   ]
  },
  {
   "cell_type": "markdown",
   "metadata": {},
   "source": [
    "Now we will ask the user a series of questions, regarding the line the disruption occurred time it started and time it is expected to end."
   ]
  },
  {
   "cell_type": "code",
   "execution_count": 23,
   "metadata": {},
   "outputs": [],
   "source": [
    "key = input(\"What is the affected line (XP1, XP2, R28): \")\n",
    "t1 = input(\"What is time the disruption started (in 'YYYY-MM-DDTHH:mm' format): \")\n",
    "t2 = input(\"What is time the disruption started (in 'YYYY-MM-DDTHH:mm' format): \")\n",
    "time = [np.datetime64(t1),np.datetime64(t2)]\n",
    "towards = input(\"Is the train going to Malpensa (True/False):\")\n",
    "if towards == \"True\":\n",
    "    towards = True"
   ]
  },
  {
   "cell_type": "markdown",
   "metadata": {},
   "source": [
    "We then isolate the routes that could be affected based on the 'key' parameter and determined the associated trip_id for the affected line. "
   ]
  },
  {
   "cell_type": "code",
   "execution_count": 24,
   "metadata": {},
   "outputs": [],
   "source": [
    "routes = trips[trips['route_id'] == key]\n",
    "routes = routes['service_id'].values.tolist()\n",
    "\n",
    "idxs = []\n",
    "for route in routes:\n",
    "    towards_c = False\n",
    "    list_times = (stop_times_file[stop_times_file['service_id'] == route])\n",
    "    list_times = list_times.reset_index()\n",
    "    temp_idxs = []\n",
    "    for idx,r in list_times.iterrows():\n",
    "        if r[1]>=time[0] and r[1]<=time[1]:\n",
    "            temp_idxs.append(r[0])\n",
    "        else:\n",
    "            temp_idxs = []\n",
    "            break\n",
    "\n",
    "    if r[4] == 4150:\n",
    "        towards_c = True\n",
    "    \n",
    "    if temp_idxs !=[] and towards_c == towards:\n",
    "        idxs.append(r[-1])\n"
   ]
  },
  {
   "cell_type": "markdown",
   "metadata": {},
   "source": [
    "In the idxs list we have all the trip_ids for the associated line. We can then modify the GTFS by removing the affected trip by the stoptimes_dict. "
   ]
  },
  {
   "cell_type": "code",
   "execution_count": 25,
   "metadata": {},
   "outputs": [
    {
     "ename": "IndexError",
     "evalue": "list index out of range",
     "output_type": "error",
     "traceback": [
      "\u001b[1;31m---------------------------------------------------------------------------\u001b[0m",
      "\u001b[1;31mIndexError\u001b[0m                                Traceback (most recent call last)",
      "Cell \u001b[1;32mIn[25], line 1\u001b[0m\n\u001b[1;32m----> 1\u001b[0m affected_route \u001b[38;5;241m=\u001b[39m stoptimes_dict[\u001b[43midxs\u001b[49m\u001b[43m[\u001b[49m\u001b[38;5;241;43m0\u001b[39;49m\u001b[43m]\u001b[49m]\n\u001b[0;32m      2\u001b[0m mod_route \u001b[38;5;241m=\u001b[39m []\n\u001b[0;32m      3\u001b[0m \u001b[38;5;28;01mfor\u001b[39;00m route \u001b[38;5;129;01min\u001b[39;00m affected_route:\n",
      "\u001b[1;31mIndexError\u001b[0m: list index out of range"
     ]
    }
   ],
   "source": [
    "affected_route = stoptimes_dict[idxs[0]]\n",
    "mod_route = []\n",
    "for route in affected_route:\n",
    "    val = False\n",
    "    for stop in route:\n",
    "        if stop[1] >= time[0] and stop[1] <= time[1]:\n",
    "            val = True\n",
    "        else:\n",
    "            val = False\n",
    "            break\n",
    "    if val == False:\n",
    "        mod_route.append(route)\n",
    "\n",
    "# Editing the GTFS\n",
    "stoptimes_dict[idxs[0]] = mod_route"
   ]
  },
  {
   "cell_type": "markdown",
   "metadata": {},
   "source": [
    "We can test the effect for editing the file by initiating the router on a simulated trip. Let's suppose we inititate a trip from Cadorna to MXP, at 12:05 after initiating a disruption at XP1 (Cadorna-MXP) from 12:00 to 13:05. "
   ]
  },
  {
   "cell_type": "code",
   "execution_count": 34,
   "metadata": {},
   "outputs": [
    {
     "name": "stdout",
     "output_type": "stream",
     "text": [
      "The user arrives at the airport at None using None mode(s).\n"
     ]
    }
   ],
   "source": [
    "# Start time at 12:05\n",
    "D_TIME = pd.Timestamp(year=2023,month=6,day=1,\n",
    "                    hour = 620//60,\n",
    "                    minute=620%60)\n",
    "\n",
    "# Cadorna node is 4145, MXP node is 4150, we assume a maximum of two modes to be used and a minimum of two minutes between mode exchange\n",
    "S_TIME,E_TIME,TRANSFERS,TRANS_ROUTE = raptor(4148,4218,D_TIME,1,120,\n",
    "routes_by_stop_dict,stops_dict,stoptimes_dict,footpath_dict,idx_by_route_stop_dict)\n",
    "\n",
    "print(f\"The user arrives at the airport at {E_TIME} using {TRANSFERS} mode(s).\")\n",
    "TRANS_ROUTE"
   ]
  },
  {
   "cell_type": "markdown",
   "metadata": {},
   "source": [
    "Alternatively, simulating the same trip without a disruption. "
   ]
  },
  {
   "cell_type": "code",
   "execution_count": null,
   "metadata": {},
   "outputs": [
    {
     "ename": "NameError",
     "evalue": "name 'affected_route' is not defined",
     "output_type": "error",
     "traceback": [
      "\u001b[1;31m---------------------------------------------------------------------------\u001b[0m",
      "\u001b[1;31mNameError\u001b[0m                                 Traceback (most recent call last)",
      "Cell \u001b[1;32mIn[6], line 1\u001b[0m\n\u001b[1;32m----> 1\u001b[0m stoptimes_dict[idxs[\u001b[38;5;241m0\u001b[39m]] \u001b[38;5;241m=\u001b[39m \u001b[43maffected_route\u001b[49m\n\u001b[0;32m      3\u001b[0m \u001b[38;5;66;03m# Start time at 12:05\u001b[39;00m\n\u001b[0;32m      4\u001b[0m D_TIME \u001b[38;5;241m=\u001b[39m pd\u001b[38;5;241m.\u001b[39mTimestamp(year\u001b[38;5;241m=\u001b[39m\u001b[38;5;241m2023\u001b[39m,month\u001b[38;5;241m=\u001b[39m\u001b[38;5;241m6\u001b[39m,day\u001b[38;5;241m=\u001b[39m\u001b[38;5;241m1\u001b[39m,\n\u001b[0;32m      5\u001b[0m                     hour \u001b[38;5;241m=\u001b[39m \u001b[38;5;241m725\u001b[39m\u001b[38;5;241m/\u001b[39m\u001b[38;5;241m/\u001b[39m\u001b[38;5;241m60\u001b[39m,\n\u001b[0;32m      6\u001b[0m                     minute\u001b[38;5;241m=\u001b[39m\u001b[38;5;241m725\u001b[39m\u001b[38;5;241m%\u001b[39m\u001b[38;5;241m60\u001b[39m)\n",
      "\u001b[1;31mNameError\u001b[0m: name 'affected_route' is not defined"
     ]
    }
   ],
   "source": [
    "stoptimes_dict[idxs[0]] = affected_route\n",
    "\n",
    "# Start time at 12:05\n",
    "D_TIME = pd.Timestamp(year=2023,month=6,day=1,\n",
    "                    hour = 725//60,\n",
    "                    minute=725%60)\n",
    "\n",
    "# Cadorna node is 4145, MXP node is 4150, we assume a maximum of two modes to be used and a minimum of two minutes between mode exchange\n",
    "S_TIME,E_TIME,TRANSFERS,TRANS_ROUTE = raptor(4215,4150,D_TIME,2,120,\n",
    "routes_by_stop_dict,stops_dict,stoptimes_dict,footpath_dict,idx_by_route_stop_dict)\n",
    "\n",
    "print(f\"The user arrives at the airport at {E_TIME} using {TRANSFERS} mode(s).\")"
   ]
  },
  {
   "cell_type": "markdown",
   "metadata": {},
   "source": [
    "Let's continue by simulating a disruption by a road closure initiated by the user. Suppose that we want to shut down part of the A8 (Autostrada dei Laghi) highway that lead to MXP."
   ]
  },
  {
   "cell_type": "code",
   "execution_count": null,
   "metadata": {},
   "outputs": [],
   "source": [
    "# This will be expanded\n",
    "relations = {\"A8\": 374766 }\n",
    "key = input(\"Which road you want to close: \").capitalize()\n",
    "key = relations[key]"
   ]
  },
  {
   "cell_type": "markdown",
   "metadata": {},
   "source": [
    "We will then break down the network to its base components and isolate the geometry to just the A8, in order to create an exclusion zone in the shape of a polygon. "
   ]
  },
  {
   "cell_type": "code",
   "execution_count": null,
   "metadata": {},
   "outputs": [],
   "source": [
    "import osmium as o\n",
    "import pandas as pd\n",
    "\n",
    "# Create a WKBFactory object from the osmium library\n",
    "wkbfab = o.geom.WKBFactory()\n",
    "\n",
    "class RelationTimelineHandler(o.SimpleHandler):\n",
    "    def __init__(self):\n",
    "        super(RelationTimelineHandler, self).__init__()\n",
    "        self.ways = []\n",
    "\n",
    "    def relation(self, r):\n",
    "        # Check if the relation's id matches the specified id (374766)\n",
    "        if r.id == key:\n",
    "            # Extract all way references from the relation and store in self.ways list\n",
    "            self.ways = [m.ref for m in r.members]\n",
    "            # Create an empty dictionary with way references as keys\n",
    "            # The values will be lists to store the nodes' geometries later\n",
    "            self.ways_dict = dict(zip(self.ways, [[]] * len(self.ways)))\n",
    "\n",
    "class RoadLengthHandler(o.SimpleHandler):\n",
    "    def __init__(self, ways_dict):\n",
    "        super(RoadLengthHandler, self).__init__()\n",
    "        self.ways_dict = ways_dict\n",
    "\n",
    "    def way(self, w):\n",
    "        # Check if the way's id exists in the ways_dict dictionary\n",
    "        if w.id in self.ways_dict.keys():\n",
    "            points = []\n",
    "            # Extract and store the nodes' latitude and longitude coordinates for the way\n",
    "            for n in w.nodes:\n",
    "                sp2 = str(n).split('/')\n",
    "                sp1 = str(sp2[0]).split('@')\n",
    "                points.append((float(sp1[1]), float(sp2[1])))\n",
    "            # Update the ways_dict with the geometry information for the way\n",
    "            self.ways_dict[w.id] = points\n",
    "\n",
    "def main(osmfile):\n",
    "    # Initialize RelationTimelineHandler to process the OSM file and extract way references\n",
    "    r = RelationTimelineHandler()\n",
    "    # Set 'locations' to True to cache node locations for geometry extraction\n",
    "    r.apply_file(osmfile, locations=True)\n",
    "\n",
    "    # Initialize RoadLengthHandler and pass the ways dictionary to store geometries\n",
    "    w = RoadLengthHandler(r.ways_dict)\n",
    "    # Process the OSM file again to get the geometries for the ways\n",
    "    w.apply_file(osmfile, locations=True)\n",
    "\n",
    "    return w\n",
    "\n",
    "if __name__ == '__main__':\n",
    "    # Call the main function with the OSM file path as input\n",
    "    b = main('ORS/milan.osm.pbf')"
   ]
  },
  {
   "cell_type": "markdown",
   "metadata": {},
   "source": [
    "Let us now create a polygon out of the road area extracted from the OSM relation. We can also draw the polygon that the exlcusion area defines."
   ]
  },
  {
   "cell_type": "code",
   "execution_count": null,
   "metadata": {},
   "outputs": [
    {
     "data": {
      "image/svg+xml": "<svg xmlns=\"http://www.w3.org/2000/svg\" xmlns:xlink=\"http://www.w3.org/1999/xlink\" width=\"100.0\" height=\"100.0\" viewBox=\"8.786450775999999 45.506140276000004 0.3405732480000019 0.2833931479999947\" preserveAspectRatio=\"xMinYMin meet\"><g transform=\"matrix(1,0,0,-1,0,91.29567370000001)\"><path fill-rule=\"evenodd\" fill=\"#ff3333\" stroke=\"#555555\" stroke-width=\"0.0068114649600000375\" opacity=\"0.6\" d=\"M 8.8132363,45.7732923 L 8.8132832,45.7734698 L 8.8138162,45.7757118 L 8.8141433,45.7769064 L 8.8105464,45.7340062 L 8.8106615,45.7351478 L 8.8107608,45.7362871 L 8.8107456,45.7366235 L 8.8107172,45.7369613 L 8.8105807,45.7375609 L 8.8104606,45.7379132 L 8.8103207,45.738263 L 8.8100605,45.7387429 L 8.8098868,45.7389839 L 8.8096615,45.739293 L 8.8093882,45.7395949 L 8.8090011,45.7399948 L 8.8086124,45.7403864 L 8.8078174,45.7411687 L 8.8075217,45.7414895 L 8.8072525,45.7418076 L 8.8069922,45.7421649 L 8.8067583,45.7425199 L 8.8064308,45.7431655 L 8.8063199,45.7434479 L 8.8062272,45.7437206 L 8.8061414,45.7440153 L 8.8060711,45.7443008 L 8.8060244,45.7446533 L 8.8059853,45.7450048 L 8.8059788,45.7453204 L 8.8059904,45.7456323 L 8.8060343,45.7460026 L 8.8060947,45.7463683 L 8.806203,45.7468581 L 8.8066645,45.7485172 L 8.8077311,45.7525659 L 8.8086118,45.7558213 L 8.8087869,45.7565453 L 8.8091424,45.7579008 L 8.8097513,45.7601516 L 8.8101182,45.7615677 L 8.810908,45.764605 L 8.8115826,45.7672105 L 8.8122724,45.769531 L 8.8129273,45.772113 L 8.8132363,45.7732923 L 8.8105076,45.7336839 L 8.8105464,45.7340062 L 8.8076935,45.7027547 L 8.8077153,45.7028933 L 8.8078468,45.7042884 L 8.8078914,45.7048629 L 8.808,45.7061516 L 8.8081919,45.7082697 L 8.8085273,45.7117708 L 8.8085729,45.7123634 L 8.8087355,45.7141485 L 8.8089024,45.7159593 L 8.8090242,45.7172904 L 8.8091478,45.718544 L 8.8093377,45.7207926 L 8.8101637,45.7298451 L 8.8103529,45.7318265 L 8.8105076,45.7336839 L 8.8038136,45.6845366 L 8.8041878,45.6857585 L 8.8047576,45.6877302 L 8.8055688,45.69053 L 8.8064164,45.6933154 L 8.8067012,45.6942405 L 8.8068928,45.6950604 L 8.8069864,45.6956948 L 8.8070713,45.6966553 L 8.8071547,45.6976645 L 8.8072232,45.6984111 L 8.8074108,45.7003536 L 8.8076935,45.7027547 L 8.8037823,45.6844323 L 8.8037921,45.6844665 L 8.8038136,45.6845366 L 8.801209,45.673607 L 8.8013831,45.6740724 L 8.8014086,45.6752183 L 8.8014786,45.6758299 L 8.8015091,45.6761488 L 8.8015979,45.6765457 L 8.8017202,45.6770565 L 8.8029779,45.6816178 L 8.8037823,45.6844323 L 8.8054787,45.6616887 L 8.8040287,45.6622804 L 8.8032052,45.6626494 L 8.8024324,45.6630462 L 8.8018305,45.6634087 L 8.8012026,45.663843 L 8.8006531,45.6642709 L 8.8002219,45.6646981 L 8.7998698,45.6651714 L 8.7996255,45.6655696 L 8.7995201,45.6657867 L 8.7994381,45.6659941 L 8.7992981,45.666508 L 8.7992335,45.6669813 L 8.7992115,45.6672389 L 8.7992139,45.6675277 L 8.7992653,45.6679248 L 8.799534,45.6689737 L 8.8001147,45.6710426 L 8.8003571,45.6718014 L 8.8006739,45.6724957 L 8.8010315,45.6732397 L 8.801209,45.673607 L 8.8591273,45.6392776 L 8.8569592,45.640174 L 8.8546452,45.6411534 L 8.8546452,45.6411534 L 8.8509044,45.6427232 L 8.8475251,45.644168 L 8.8449108,45.6452857 L 8.8449108,45.6452857 L 8.8428709,45.6461273 L 8.8410953,45.6468598 L 8.8401238,45.6472524 L 8.83965,45.6474495 L 8.8395307,45.6474998 L 8.8364625,45.648791 L 8.8319922,45.6506467 L 8.8293597,45.6517397 L 8.8264723,45.6529581 L 8.8203872,45.6554924 L 8.8183046,45.6563658 L 8.8093363,45.6601228 L 8.8073255,45.6609399 L 8.8054787,45.6616887 L 8.8623344,45.6379342 L 8.8615509,45.6382652 L 8.8591273,45.6392776 L 8.8823075,45.6295088 L 8.8787403,45.6310308 L 8.8768741,45.6318125 L 8.8727857,45.6335184 L 8.8623344,45.6379342 L 8.8894219,45.6265292 L 8.8874241,45.6273851 L 8.8839302,45.6288338 L 8.8823075,45.6295088 L 8.8898295,45.6263547 L 8.8894219,45.6265292 L 8.8959608,45.6237877 L 8.8947785,45.6242828 L 8.8898295,45.6263547 L 8.8963921,45.6236044 L 8.8959608,45.6237877 L 8.9984374,45.5807212 L 8.9945919,45.5823281 L 8.9928206,45.5830623 L 8.9822825,45.5875296 L 8.9798533,45.5885479 L 8.977454,45.5895722 L 8.9718386,45.5919233 L 8.9608285,45.5965304 L 8.9539315,45.5994091 L 9.0757238,45.5399105 L 9.0625873,45.5469913 L 9.0621414,45.5472317 L 9.061842,45.5474154 L 9.061842,45.5474154 L 9.061583,45.5475905 L 9.061297,45.547827 L 9.0611774,45.5479438 L 9.0610282,45.5480953 L 9.0609116,45.5482142 L 9.060789,45.5483057 L 9.0606247,45.5484003 L 9.0604821,45.5484799 L 9.0601835,45.5486443 L 9.0601835,45.5486443 L 9.0601269,45.5486757 L 9.0601269,45.5486757 L 9.060062,45.5487098 L 9.060062,45.5487098 L 9.0598362,45.5488213 L 9.0595427,45.5489529 L 9.0590289,45.5491529 L 9.0590289,45.5491529 L 9.0582072,45.5494658 L 9.0579106,45.5495949 L 9.0576319,45.549736 L 9.0573449,45.5498865 L 9.0568167,45.5501751 L 9.0552334,45.5510431 L 9.0552334,45.5510431 L 9.054088,45.551653 L 9.0531461,45.5521593 L 9.0523028,45.5526018 L 9.0523028,45.5526018 L 9.0517423,45.5528987 L 9.0517423,45.5528987 L 9.0501839,45.5536827 L 9.0501839,45.5536827 L 9.047806,45.5549099 L 9.0457334,45.5560107 L 9.0439652,45.5569547 L 9.0421381,45.5578985 L 9.0421381,45.5578985 L 9.0414178,45.5582827 L 9.0396871,45.5592065 L 9.0367004,45.5608051 L 9.0360101,45.5611756 L 9.0360101,45.5611756 L 9.0352612,45.5615729 L 9.0339062,45.562301 L 9.0305456,45.5640984 L 9.0287994,45.5650302 L 9.0279012,45.565513 L 9.027089,45.5659473 L 9.0247535,45.5671979 L 9.0227785,45.5682524 L 9.022135,45.5686002 L 9.022135,45.5686002 L 9.0211312,45.5691383 L 9.0211312,45.5691383 L 9.0188573,45.5703538 L 9.0188573,45.5703538 L 9.0148192,45.5725426 L 9.0148192,45.5725426 L 9.0139849,45.5729806 L 9.0116852,45.5742371 L 9.0081125,45.5762573 L 9.0067285,45.5769782 L 9.0048064,45.577962 L 9.0048064,45.577962 L 9.0038799,45.578425 L 9.0029417,45.5788197 L 9.0023641,45.5790712 L 9.0003482,45.5799191 L 8.99938,45.5803234 L 8.9988958,45.5805239 L 8.9984374,45.5807212 L 9.0952938,45.5294124 L 9.0895782,45.5324805 L 9.0757238,45.5399105 L 8.9539315,45.5994091 L 8.9538613,45.5994385 L 8.9538613,45.5994385 L 8.9505073,45.6008784 L 8.9503909,45.6009267 L 8.9503909,45.6009267 L 8.9468105,45.6024292 L 8.9456466,45.6029282 L 8.9422785,45.6043687 L 8.9387702,45.6057943 L 8.9386816,45.6058308 L 8.9373619,45.6063998 L 8.9359625,45.606975 L 8.9344641,45.6076079 L 8.9299211,45.6095141 L 8.9278204,45.6103853 L 8.9167995,45.6150262 L 8.9074634,45.6189588 L 8.9074634,45.6189588 L 8.9071119,45.6191068 L 8.9071119,45.6191068 L 8.9059066,45.6196145 L 8.8963921,45.6236044 L 9.0974969,45.5282392 L 9.0952938,45.5294124 L 9.098472,45.5277114 L 9.0974969,45.5282392 L 9.1077971,45.5226148 L 9.1008049,45.526533 L 9.098472,45.5277114 L 9.1089559,45.5219774 L 9.1077971,45.5226148 L 9.1091035,45.5218962 L 9.1089559,45.5219774 L 9.1125978,45.5199569 L 9.1095121,45.5216715 L 9.1095121,45.5216715 L 9.1091035,45.5218962 L 9.1078871,45.5223724 L 9.1144102,45.5187541 L 9.0978695,45.5278413 L 9.0996878,45.5268292 L 9.1006589,45.5263346 L 9.1041088,45.5244791 L 9.1078871,45.5223724 L 9.0950107,45.529404 L 9.0954327,45.5291801 L 9.0978695,45.5278413 L 9.0876458,45.533351 L 9.0950107,45.529404 L 9.075826,45.5396809 L 9.0815166,45.53665 L 9.0846166,45.5349875 L 9.0876458,45.533351 L 9.0607615,45.5477428 L 9.0616696,45.5472851 L 9.0627125,45.5467437 L 9.0637126,45.5461718 L 9.0645217,45.5457369 L 9.069529,45.5430456 L 9.0753697,45.5399279 L 9.075826,45.5396809 L 9.0597178,45.5482172 L 9.0598571,45.5481416 L 9.0599694,45.5480883 L 9.0601306,45.5480091 L 9.0607615,45.5477428 L 9.059654,45.5482508 L 9.0597178,45.5482172 L 9.0595949,45.548283 L 9.059654,45.5482508 L 9.0581469,45.5491679 L 9.0586807,45.5488016 L 9.0588811,45.5486817 L 9.0592186,45.5484899 L 9.0595949,45.548283 L 9.0536655,45.5516444 L 9.0542295,45.551368 L 9.0563546,45.5502256 L 9.056488,45.5501574 L 9.0572236,45.5497514 L 9.0581469,45.5491679 L 9.053452,45.5517603 L 9.0536655,45.5516444 L 9.0529558,45.552028 L 9.053452,45.5517603 L 9.0519288,45.5525662 L 9.0529558,45.552028 L 9.051764,45.5526541 L 9.0519288,45.5525662 L 9.0515381,45.5527708 L 9.051764,45.5526541 L 9.0511091,45.5529909 L 9.0515381,45.5527708 L 9.046209,45.5555209 L 9.0482168,45.554462 L 9.0495458,45.5537803 L 9.0506091,45.553248 L 9.0511091,45.5529909 L 9.043661,45.5568908 L 9.0438514,45.5567854 L 9.046209,45.5555209 L 9.0367961,45.5605921 L 9.0395567,45.5591137 L 9.043661,45.5568908 L 9.034682,45.5617185 L 9.035859,45.5610931 L 9.0367961,45.5605921 L 9.0220402,45.5684806 L 9.0247195,45.5670471 L 9.0273894,45.5656193 L 9.0290334,45.56474 L 9.0311364,45.563616 L 9.0320808,45.5631123 L 9.0337191,45.5622386 L 9.034682,45.5617185 L 9.0209833,45.5690397 L 9.0220402,45.5684806 L 9.017471,45.5709126 L 9.0209833,45.5690397 L 9.0163552,45.5715159 L 9.017471,45.5709126 L 9.012189,45.5737155 L 9.0138535,45.5728578 L 9.0146892,45.5724218 L 9.0163552,45.5715159 L 9.0017365,45.5791883 L 9.0024954,45.5788541 L 9.0032119,45.5784915 L 9.00461,45.5777731 L 9.0052477,45.5774269 L 9.0065069,45.5767594 L 9.0077174,45.5760996 L 9.012189,45.5737155 L 8.9538642,45.5993363 L 8.9607507,45.5964416 L 8.97176,45.5918146 L 8.9822075,45.5874164 L 8.991297,45.5836057 L 8.9927643,45.5829878 L 8.9956034,45.581797 L 8.9984283,45.5806038 L 9.0003903,45.5797709 L 9.0017365,45.5791883 L 8.8964147,45.623466 L 8.9058403,45.61952 L 8.9068958,45.6190762 L 8.9068958,45.6190762 L 8.9072163,45.6189415 L 8.9538007,45.599363 L 8.9538642,45.5993363 L 8.9497186,45.6010788 L 8.9500749,45.600929 L 8.9538007,45.599363 L 8.9072163,45.6189415 L 8.9167217,45.614945 L 8.9249297,45.6114824 L 8.9277505,45.6103033 L 8.9323863,45.6083795 L 8.9359066,45.6068906 L 8.9387193,45.6057156 L 8.9415951,45.6044906 L 8.9430346,45.6038924 L 8.944061,45.6034557 L 8.9453636,45.6029363 L 8.9466061,45.6023847 L 8.9497186,45.6010788 L 8.895897,45.6236947 L 8.8964147,45.623466 L 8.8897555,45.6262688 L 8.8947122,45.6241901 L 8.895897,45.6236947 L 8.8893468,45.6264421 L 8.8897555,45.6262688 L 8.8822587,45.6294019 L 8.8838486,45.6287473 L 8.8873127,45.6273064 L 8.8893468,45.6264421 L 8.8590404,45.6391577 L 8.8614502,45.6381466 L 8.8727133,45.6334291 L 8.876664,45.6317727 L 8.8787173,45.6309147 L 8.8822587,45.6294019 L 8.8533787,45.6415506 L 8.8590404,45.6391577 L 8.8519405,45.642152 L 8.8533787,45.6415506 L 8.8399673,45.6471603 L 8.8400302,45.6471352 L 8.8425885,45.6460648 L 8.8442696,45.6453614 L 8.8508278,45.6426173 L 8.8519405,45.642152 L 8.8054402,45.6615866 L 8.8072638,45.6608437 L 8.8092333,45.6600417 L 8.8182382,45.6562696 L 8.8215299,45.6548806 L 8.826429,45.6528397 L 8.8292826,45.6516497 L 8.835804,45.6489243 L 8.8378096,45.6480849 L 8.8399673,45.6471603 L 8.7998878,45.6709528 L 8.7992893,45.6689018 L 8.7991245,45.6681338 L 8.7990789,45.667896 L 8.7990646,45.6674926 L 8.799069,45.6672458 L 8.7990836,45.6669776 L 8.7991123,45.6667063 L 8.7991463,45.6665094 L 8.799202,45.6662329 L 8.7992578,45.6660565 L 8.7993229,45.6658802 L 8.7995213,45.6654049 L 8.7998456,45.6649238 L 8.8000648,45.6646487 L 8.8002539,45.6644657 L 8.8005421,45.6642127 L 8.800782,45.6640178 L 8.8011107,45.663774 L 8.8014554,45.6635264 L 8.8017684,45.6633148 L 8.8020108,45.6631584 L 8.802355,45.6629495 L 8.8031178,45.6625598 L 8.8039546,45.6621991 L 8.8054402,45.6615866 L 8.8076509,45.7037342 L 8.8075539,45.7029065 L 8.8073458,45.7011715 L 8.8072767,45.7003656 L 8.8070457,45.6976711 L 8.806961,45.6966724 L 8.8068804,45.6957156 L 8.8067821,45.6950594 L 8.8065918,45.6942516 L 8.8060873,45.6926493 L 8.8054474,45.6905471 L 8.8045951,45.6878672 L 8.8040442,45.6858732 L 8.8040217,45.6857916 L 8.8038721,45.6853018 L 8.8036457,45.6845603 L 8.8036457,45.6845603 L 8.8036226,45.6844845 L 8.8036149,45.684456 L 8.8036149,45.684456 L 8.8026568,45.6809099 L 8.8015663,45.6770856 L 8.8011924,45.6758392 L 8.800883,45.6747973 L 8.8007263,45.6741752 L 8.8006001,45.6737084 L 8.8004002,45.673095 L 8.8002867,45.6726661 L 8.8001909,45.672216 L 8.7998878,45.6709528 L 8.8103917,45.7336972 L 8.8102189,45.7318342 L 8.8100329,45.7298485 L 8.8092126,45.7207958 L 8.8091044,45.7196427 L 8.808798,45.7162032 L 8.8086007,45.7141433 L 8.8084369,45.7123682 L 8.8083941,45.7117837 L 8.8080607,45.7082839 L 8.8078708,45.7061594 L 8.8077473,45.7048629 L 8.8076509,45.7037342 L 8.8104258,45.7340625 L 8.8103917,45.7336972 L 8.8130875,45.7732553 L 8.8128994,45.7725693 L 8.8122488,45.7700455 L 8.8120728,45.7695013 L 8.8113506,45.7668709 L 8.8107657,45.7646574 L 8.8107138,45.7644608 L 8.8096098,45.7602095 L 8.8089776,45.7578589 L 8.8084576,45.7558799 L 8.8065287,45.7485675 L 8.8060829,45.7469124 L 8.8059607,45.746403 L 8.8059054,45.7460428 L 8.8058637,45.7456723 L 8.8058479,45.745355 L 8.8058468,45.7450375 L 8.8058896,45.7446852 L 8.8059416,45.7443226 L 8.8060125,45.7440402 L 8.8060867,45.7437508 L 8.806191,45.7434576 L 8.8063083,45.7431665 L 8.8066351,45.7425256 L 8.8068752,45.742165 L 8.8071372,45.741798 L 8.8074086,45.7414771 L 8.8077029,45.7411472 L 8.8084736,45.7403643 L 8.8088563,45.7399713 L 8.8092448,45.7395795 L 8.8095147,45.7392709 L 8.8097519,45.7389639 L 8.8099046,45.738733 L 8.8101573,45.7382746 L 8.8103129,45.7379262 L 8.8104449,45.7375767 L 8.8105599,45.7369795 L 8.8105959,45.7366552 L 8.8106121,45.7363198 L 8.8105262,45.7351924 L 8.8104258,45.7340625 L 8.8140104,45.7769196 L 8.8136945,45.7757182 L 8.8131493,45.7734858 L 8.8130875,45.7732553 L 8.8132363,45.7732923 z\" /></g></svg>",
      "text/plain": [
       "<POLYGON ((8.813 45.773, 8.813 45.773, 8.814 45.776, 8.814 45.777, 8.811 45....>"
      ]
     },
     "execution_count": 40,
     "metadata": {},
     "output_type": "execute_result"
    }
   ],
   "source": [
    "from shapely.geometry import Polygon, mapping, MultiPolygon, LineString, Point\n",
    "\n",
    "flat_dict = {\"A8\":b.ways_dict}\n",
    "flat_dict['A8'] = [x for x in b.ways_dict.values()]\n",
    "flat_dict['A8'] = [x for x in b.ways_dict.values()]\n",
    "flat_dict['A8'] =  [[item[0],item[1]] for sublist in flat_dict['A8']  for item in sublist]\n",
    "flat_dict['A8'].append(flat_dict['A8'][0])\n",
    "poly = Polygon([[p[0], p[1]] for p in flat_dict['A8']])\n",
    "poly"
   ]
  },
  {
   "cell_type": "markdown",
   "metadata": {},
   "source": [
    "Realistically, the disruption would not affect the entire road so let us assume that it only affects a specific part of the road. Let' exclude a part of the road and visualize it via folium. "
   ]
  },
  {
   "cell_type": "code",
   "execution_count": null,
   "metadata": {},
   "outputs": [
    {
     "data": {
      "text/html": [
       "<div style=\"width:100%;\"><div style=\"position:relative;width:100%;height:0;padding-bottom:60%;\"><span style=\"color:#565656\">Make this Notebook Trusted to load map: File -> Trust Notebook</span><iframe srcdoc=\"&lt;!DOCTYPE html&gt;\n",
       "&lt;html&gt;\n",
       "&lt;head&gt;\n",
       "    \n",
       "    &lt;meta http-equiv=&quot;content-type&quot; content=&quot;text/html; charset=UTF-8&quot; /&gt;\n",
       "    \n",
       "        &lt;script&gt;\n",
       "            L_NO_TOUCH = false;\n",
       "            L_DISABLE_3D = false;\n",
       "        &lt;/script&gt;\n",
       "    \n",
       "    &lt;style&gt;html, body {width: 100%;height: 100%;margin: 0;padding: 0;}&lt;/style&gt;\n",
       "    &lt;style&gt;#map {position:absolute;top:0;bottom:0;right:0;left:0;}&lt;/style&gt;\n",
       "    &lt;script src=&quot;https://cdn.jsdelivr.net/npm/leaflet@1.9.3/dist/leaflet.js&quot;&gt;&lt;/script&gt;\n",
       "    &lt;script src=&quot;https://code.jquery.com/jquery-1.12.4.min.js&quot;&gt;&lt;/script&gt;\n",
       "    &lt;script src=&quot;https://cdn.jsdelivr.net/npm/bootstrap@5.2.2/dist/js/bootstrap.bundle.min.js&quot;&gt;&lt;/script&gt;\n",
       "    &lt;script src=&quot;https://cdnjs.cloudflare.com/ajax/libs/Leaflet.awesome-markers/2.0.2/leaflet.awesome-markers.js&quot;&gt;&lt;/script&gt;\n",
       "    &lt;link rel=&quot;stylesheet&quot; href=&quot;https://cdn.jsdelivr.net/npm/leaflet@1.9.3/dist/leaflet.css&quot;/&gt;\n",
       "    &lt;link rel=&quot;stylesheet&quot; href=&quot;https://cdn.jsdelivr.net/npm/bootstrap@5.2.2/dist/css/bootstrap.min.css&quot;/&gt;\n",
       "    &lt;link rel=&quot;stylesheet&quot; href=&quot;https://netdna.bootstrapcdn.com/bootstrap/3.0.0/css/bootstrap.min.css&quot;/&gt;\n",
       "    &lt;link rel=&quot;stylesheet&quot; href=&quot;https://cdn.jsdelivr.net/npm/@fortawesome/fontawesome-free@6.2.0/css/all.min.css&quot;/&gt;\n",
       "    &lt;link rel=&quot;stylesheet&quot; href=&quot;https://cdnjs.cloudflare.com/ajax/libs/Leaflet.awesome-markers/2.0.2/leaflet.awesome-markers.css&quot;/&gt;\n",
       "    &lt;link rel=&quot;stylesheet&quot; href=&quot;https://cdn.jsdelivr.net/gh/python-visualization/folium/folium/templates/leaflet.awesome.rotate.min.css&quot;/&gt;\n",
       "    \n",
       "            &lt;meta name=&quot;viewport&quot; content=&quot;width=device-width,\n",
       "                initial-scale=1.0, maximum-scale=1.0, user-scalable=no&quot; /&gt;\n",
       "            &lt;style&gt;\n",
       "                #map_580c0a49875339f8f3efda14eea6aa90 {\n",
       "                    position: relative;\n",
       "                    width: 100.0%;\n",
       "                    height: 100.0%;\n",
       "                    left: 0.0%;\n",
       "                    top: 0.0%;\n",
       "                }\n",
       "                .leaflet-container { font-size: 1rem; }\n",
       "            &lt;/style&gt;\n",
       "        \n",
       "&lt;/head&gt;\n",
       "&lt;body&gt;\n",
       "    \n",
       "    \n",
       "            &lt;div class=&quot;folium-map&quot; id=&quot;map_580c0a49875339f8f3efda14eea6aa90&quot; &gt;&lt;/div&gt;\n",
       "        \n",
       "&lt;/body&gt;\n",
       "&lt;script&gt;\n",
       "    \n",
       "    \n",
       "            var map_580c0a49875339f8f3efda14eea6aa90 = L.map(\n",
       "                &quot;map_580c0a49875339f8f3efda14eea6aa90&quot;,\n",
       "                {\n",
       "                    center: [45.60524, 8.94081],\n",
       "                    crs: L.CRS.EPSG3857,\n",
       "                    zoom: 12,\n",
       "                    zoomControl: true,\n",
       "                    preferCanvas: false,\n",
       "                }\n",
       "            );\n",
       "\n",
       "            \n",
       "\n",
       "        \n",
       "    \n",
       "            var tile_layer_c5bd0e87ea3fef53bb8d5b774bc38ffc = L.tileLayer(\n",
       "                &quot;https://{s}.tile.openstreetmap.org/{z}/{x}/{y}.png&quot;,\n",
       "                {&quot;attribution&quot;: &quot;Data by \\u0026copy; \\u003ca target=\\&quot;_blank\\&quot; href=\\&quot;http://openstreetmap.org\\&quot;\\u003eOpenStreetMap\\u003c/a\\u003e, under \\u003ca target=\\&quot;_blank\\&quot; href=\\&quot;http://www.openstreetmap.org/copyright\\&quot;\\u003eODbL\\u003c/a\\u003e.&quot;, &quot;detectRetina&quot;: false, &quot;maxNativeZoom&quot;: 18, &quot;maxZoom&quot;: 18, &quot;minZoom&quot;: 0, &quot;noWrap&quot;: false, &quot;opacity&quot;: 1, &quot;subdomains&quot;: &quot;abc&quot;, &quot;tms&quot;: false}\n",
       "            ).addTo(map_580c0a49875339f8f3efda14eea6aa90);\n",
       "        \n",
       "    \n",
       "            var poly_line_31dde5a617f531fe0e75051999c53ee9 = L.polyline(\n",
       "                [[45.6237877, 8.8959608], [45.6242828, 8.8947785], [45.6263547, 8.8898295], [45.6236044, 8.8963921], [45.6237877, 8.8959608], [45.5807212, 8.9984374], [45.5823281, 8.9945919], [45.5830623, 8.9928206], [45.5875296, 8.9822825], [45.5885479, 8.9798533], [45.5895722, 8.977454], [45.5919233, 8.9718386], [45.5965304, 8.9608285], [45.5994091, 8.9539315], [45.5399105, 9.0757238], [45.5469913, 9.0625873], [45.5472317, 9.0621414], [45.5474154, 9.061842], [45.5474154, 9.061842], [45.5475905, 9.061583], [45.547827, 9.061297], [45.5479438, 9.0611774], [45.5480953, 9.0610282], [45.5482142, 9.0609116], [45.5483057, 9.060789], [45.5484003, 9.0606247], [45.5484799, 9.0604821], [45.5486443, 9.0601835], [45.5486443, 9.0601835], [45.5486757, 9.0601269], [45.5486757, 9.0601269], [45.5487098, 9.060062], [45.5487098, 9.060062], [45.5488213, 9.0598362], [45.5489529, 9.0595427], [45.5491529, 9.0590289], [45.5491529, 9.0590289], [45.5494658, 9.0582072], [45.5495949, 9.0579106], [45.549736, 9.0576319], [45.5498865, 9.0573449], [45.5501751, 9.0568167], [45.5510431, 9.0552334], [45.5510431, 9.0552334], [45.551653, 9.054088], [45.5521593, 9.0531461], [45.5526018, 9.0523028], [45.5526018, 9.0523028], [45.5528987, 9.0517423], [45.5528987, 9.0517423], [45.5536827, 9.0501839], [45.5536827, 9.0501839], [45.5549099, 9.047806], [45.5560107, 9.0457334], [45.5569547, 9.0439652], [45.5578985, 9.0421381], [45.5578985, 9.0421381], [45.5582827, 9.0414178], [45.5592065, 9.0396871], [45.5608051, 9.0367004], [45.5611756, 9.0360101], [45.5611756, 9.0360101], [45.5615729, 9.0352612], [45.562301, 9.0339062], [45.5640984, 9.0305456], [45.5650302, 9.0287994], [45.565513, 9.0279012], [45.5659473, 9.027089], [45.5671979, 9.0247535], [45.5682524, 9.0227785], [45.5686002, 9.022135], [45.5686002, 9.022135], [45.5691383, 9.0211312], [45.5691383, 9.0211312], [45.5703538, 9.0188573], [45.5703538, 9.0188573], [45.5725426, 9.0148192], [45.5725426, 9.0148192], [45.5729806, 9.0139849], [45.5742371, 9.0116852], [45.5762573, 9.0081125], [45.5769782, 9.0067285], [45.577962, 9.0048064], [45.577962, 9.0048064], [45.578425, 9.0038799], [45.5788197, 9.0029417], [45.5790712, 9.0023641], [45.5799191, 9.0003482], [45.5803234, 8.99938], [45.5805239, 8.9988958], [45.5807212, 8.9984374], [45.5294124, 9.0952938], [45.5324805, 9.0895782], [45.5399105, 9.0757238], [45.5994091, 8.9539315], [45.5994385, 8.9538613], [45.5994385, 8.9538613], [45.6008784, 8.9505073], [45.6009267, 8.9503909], [45.6009267, 8.9503909], [45.6024292, 8.9468105], [45.6029282, 8.9456466], [45.6043687, 8.9422785], [45.6057943, 8.9387702], [45.6058308, 8.9386816], [45.6063998, 8.9373619], [45.606975, 8.9359625], [45.6076079, 8.9344641], [45.6095141, 8.9299211], [45.6103853, 8.9278204], [45.6150262, 8.9167995], [45.6189588, 8.9074634], [45.6189588, 8.9074634], [45.6191068, 8.9071119], [45.6237877, 8.8959608]],\n",
       "                {&quot;bubblingMouseEvents&quot;: true, &quot;color&quot;: &quot;red&quot;, &quot;dashArray&quot;: null, &quot;dashOffset&quot;: null, &quot;fill&quot;: false, &quot;fillColor&quot;: &quot;red&quot;, &quot;fillOpacity&quot;: 0.2, &quot;fillRule&quot;: &quot;evenodd&quot;, &quot;lineCap&quot;: &quot;round&quot;, &quot;lineJoin&quot;: &quot;round&quot;, &quot;noClip&quot;: false, &quot;opacity&quot;: 0.8, &quot;smoothFactor&quot;: 1.0, &quot;stroke&quot;: true, &quot;weight&quot;: 10}\n",
       "            ).addTo(map_580c0a49875339f8f3efda14eea6aa90);\n",
       "        \n",
       "&lt;/script&gt;\n",
       "&lt;/html&gt;\" style=\"position:absolute;width:100%;height:100%;left:0;top:0;border:none !important;\" allowfullscreen webkitallowfullscreen mozallowfullscreen></iframe></div></div>"
      ],
      "text/plain": [
       "<folium.folium.Map at 0x1ca5880c290>"
      ]
     },
     "execution_count": 59,
     "metadata": {},
     "output_type": "execute_result"
    }
   ],
   "source": [
    "import folium\n",
    "\n",
    "flat_dict = {\"A8\":b.ways_dict}\n",
    "flat_dict['A8'] = [x for x in b.ways_dict.values()][15:40]\n",
    "flat_dict['A8'] =  [[item[0],item[1]] for sublist in flat_dict['A8']  for item in sublist]\n",
    "flat_dict['A8'].append(flat_dict['A8'][0])\n",
    "poly = Polygon([[p[0], p[1]] for p in flat_dict['A8']])\n",
    "\n",
    "avoid_polygon = {\n",
    "        \"coordinates\": [\n",
    "            flat_dict['A8']\n",
    "        ],\n",
    "        \"type\": \"Polygon\"\n",
    "      }\n",
    "\n",
    "m = folium.Map(location=[45.60524,8.94081],\n",
    "              zoom_start=12)\n",
    "\n",
    "# Plot the exclusion zone\n",
    "exclude = [(x[1],x[0]) for x in flat_dict['A8']]\n",
    "folium.PolyLine(exclude,\n",
    "                color='red',\n",
    "                weight=10,\n",
    "                opacity=0.8).add_to(m)\n",
    "\n",
    "m"
   ]
  },
  {
   "cell_type": "markdown",
   "metadata": {},
   "source": [
    "We can know check the effect of the disruption when initating the router, with or without it for a user going to Malpensa via car and starting near Rescaldina. For that we need to initiate the ORS router."
   ]
  },
  {
   "cell_type": "code",
   "execution_count": null,
   "metadata": {},
   "outputs": [
    {
     "name": "stdout",
     "output_type": "stream",
     "text": [
      "{'distance': 62506.1, 'duration': 3412.9}\n"
     ]
    },
    {
     "data": {
      "text/html": [
       "<div style=\"width:100%;\"><div style=\"position:relative;width:100%;height:0;padding-bottom:60%;\"><span style=\"color:#565656\">Make this Notebook Trusted to load map: File -> Trust Notebook</span><iframe srcdoc=\"&lt;!DOCTYPE html&gt;\n",
       "&lt;html&gt;\n",
       "&lt;head&gt;\n",
       "    \n",
       "    &lt;meta http-equiv=&quot;content-type&quot; content=&quot;text/html; charset=UTF-8&quot; /&gt;\n",
       "    \n",
       "        &lt;script&gt;\n",
       "            L_NO_TOUCH = false;\n",
       "            L_DISABLE_3D = false;\n",
       "        &lt;/script&gt;\n",
       "    \n",
       "    &lt;style&gt;html, body {width: 100%;height: 100%;margin: 0;padding: 0;}&lt;/style&gt;\n",
       "    &lt;style&gt;#map {position:absolute;top:0;bottom:0;right:0;left:0;}&lt;/style&gt;\n",
       "    &lt;script src=&quot;https://cdn.jsdelivr.net/npm/leaflet@1.9.3/dist/leaflet.js&quot;&gt;&lt;/script&gt;\n",
       "    &lt;script src=&quot;https://code.jquery.com/jquery-1.12.4.min.js&quot;&gt;&lt;/script&gt;\n",
       "    &lt;script src=&quot;https://cdn.jsdelivr.net/npm/bootstrap@5.2.2/dist/js/bootstrap.bundle.min.js&quot;&gt;&lt;/script&gt;\n",
       "    &lt;script src=&quot;https://cdnjs.cloudflare.com/ajax/libs/Leaflet.awesome-markers/2.0.2/leaflet.awesome-markers.js&quot;&gt;&lt;/script&gt;\n",
       "    &lt;link rel=&quot;stylesheet&quot; href=&quot;https://cdn.jsdelivr.net/npm/leaflet@1.9.3/dist/leaflet.css&quot;/&gt;\n",
       "    &lt;link rel=&quot;stylesheet&quot; href=&quot;https://cdn.jsdelivr.net/npm/bootstrap@5.2.2/dist/css/bootstrap.min.css&quot;/&gt;\n",
       "    &lt;link rel=&quot;stylesheet&quot; href=&quot;https://netdna.bootstrapcdn.com/bootstrap/3.0.0/css/bootstrap.min.css&quot;/&gt;\n",
       "    &lt;link rel=&quot;stylesheet&quot; href=&quot;https://cdn.jsdelivr.net/npm/@fortawesome/fontawesome-free@6.2.0/css/all.min.css&quot;/&gt;\n",
       "    &lt;link rel=&quot;stylesheet&quot; href=&quot;https://cdnjs.cloudflare.com/ajax/libs/Leaflet.awesome-markers/2.0.2/leaflet.awesome-markers.css&quot;/&gt;\n",
       "    &lt;link rel=&quot;stylesheet&quot; href=&quot;https://cdn.jsdelivr.net/gh/python-visualization/folium/folium/templates/leaflet.awesome.rotate.min.css&quot;/&gt;\n",
       "    \n",
       "            &lt;meta name=&quot;viewport&quot; content=&quot;width=device-width,\n",
       "                initial-scale=1.0, maximum-scale=1.0, user-scalable=no&quot; /&gt;\n",
       "            &lt;style&gt;\n",
       "                #map_580c0a49875339f8f3efda14eea6aa90 {\n",
       "                    position: relative;\n",
       "                    width: 100.0%;\n",
       "                    height: 100.0%;\n",
       "                    left: 0.0%;\n",
       "                    top: 0.0%;\n",
       "                }\n",
       "                .leaflet-container { font-size: 1rem; }\n",
       "            &lt;/style&gt;\n",
       "        \n",
       "&lt;/head&gt;\n",
       "&lt;body&gt;\n",
       "    \n",
       "    \n",
       "            &lt;div class=&quot;folium-map&quot; id=&quot;map_580c0a49875339f8f3efda14eea6aa90&quot; &gt;&lt;/div&gt;\n",
       "        \n",
       "&lt;/body&gt;\n",
       "&lt;script&gt;\n",
       "    \n",
       "    \n",
       "            var map_580c0a49875339f8f3efda14eea6aa90 = L.map(\n",
       "                &quot;map_580c0a49875339f8f3efda14eea6aa90&quot;,\n",
       "                {\n",
       "                    center: [45.60524, 8.94081],\n",
       "                    crs: L.CRS.EPSG3857,\n",
       "                    zoom: 12,\n",
       "                    zoomControl: true,\n",
       "                    preferCanvas: false,\n",
       "                }\n",
       "            );\n",
       "\n",
       "            \n",
       "\n",
       "        \n",
       "    \n",
       "            var tile_layer_c5bd0e87ea3fef53bb8d5b774bc38ffc = L.tileLayer(\n",
       "                &quot;https://{s}.tile.openstreetmap.org/{z}/{x}/{y}.png&quot;,\n",
       "                {&quot;attribution&quot;: &quot;Data by \\u0026copy; \\u003ca target=\\&quot;_blank\\&quot; href=\\&quot;http://openstreetmap.org\\&quot;\\u003eOpenStreetMap\\u003c/a\\u003e, under \\u003ca target=\\&quot;_blank\\&quot; href=\\&quot;http://www.openstreetmap.org/copyright\\&quot;\\u003eODbL\\u003c/a\\u003e.&quot;, &quot;detectRetina&quot;: false, &quot;maxNativeZoom&quot;: 18, &quot;maxZoom&quot;: 18, &quot;minZoom&quot;: 0, &quot;noWrap&quot;: false, &quot;opacity&quot;: 1, &quot;subdomains&quot;: &quot;abc&quot;, &quot;tms&quot;: false}\n",
       "            ).addTo(map_580c0a49875339f8f3efda14eea6aa90);\n",
       "        \n",
       "    \n",
       "            var poly_line_31dde5a617f531fe0e75051999c53ee9 = L.polyline(\n",
       "                [[45.6237877, 8.8959608], [45.6242828, 8.8947785], [45.6263547, 8.8898295], [45.6236044, 8.8963921], [45.6237877, 8.8959608], [45.5807212, 8.9984374], [45.5823281, 8.9945919], [45.5830623, 8.9928206], [45.5875296, 8.9822825], [45.5885479, 8.9798533], [45.5895722, 8.977454], [45.5919233, 8.9718386], [45.5965304, 8.9608285], [45.5994091, 8.9539315], [45.5399105, 9.0757238], [45.5469913, 9.0625873], [45.5472317, 9.0621414], [45.5474154, 9.061842], [45.5474154, 9.061842], [45.5475905, 9.061583], [45.547827, 9.061297], [45.5479438, 9.0611774], [45.5480953, 9.0610282], [45.5482142, 9.0609116], [45.5483057, 9.060789], [45.5484003, 9.0606247], [45.5484799, 9.0604821], [45.5486443, 9.0601835], [45.5486443, 9.0601835], [45.5486757, 9.0601269], [45.5486757, 9.0601269], [45.5487098, 9.060062], [45.5487098, 9.060062], [45.5488213, 9.0598362], [45.5489529, 9.0595427], [45.5491529, 9.0590289], [45.5491529, 9.0590289], [45.5494658, 9.0582072], [45.5495949, 9.0579106], [45.549736, 9.0576319], [45.5498865, 9.0573449], [45.5501751, 9.0568167], [45.5510431, 9.0552334], [45.5510431, 9.0552334], [45.551653, 9.054088], [45.5521593, 9.0531461], [45.5526018, 9.0523028], [45.5526018, 9.0523028], [45.5528987, 9.0517423], [45.5528987, 9.0517423], [45.5536827, 9.0501839], [45.5536827, 9.0501839], [45.5549099, 9.047806], [45.5560107, 9.0457334], [45.5569547, 9.0439652], [45.5578985, 9.0421381], [45.5578985, 9.0421381], [45.5582827, 9.0414178], [45.5592065, 9.0396871], [45.5608051, 9.0367004], [45.5611756, 9.0360101], [45.5611756, 9.0360101], [45.5615729, 9.0352612], [45.562301, 9.0339062], [45.5640984, 9.0305456], [45.5650302, 9.0287994], [45.565513, 9.0279012], [45.5659473, 9.027089], [45.5671979, 9.0247535], [45.5682524, 9.0227785], [45.5686002, 9.022135], [45.5686002, 9.022135], [45.5691383, 9.0211312], [45.5691383, 9.0211312], [45.5703538, 9.0188573], [45.5703538, 9.0188573], [45.5725426, 9.0148192], [45.5725426, 9.0148192], [45.5729806, 9.0139849], [45.5742371, 9.0116852], [45.5762573, 9.0081125], [45.5769782, 9.0067285], [45.577962, 9.0048064], [45.577962, 9.0048064], [45.578425, 9.0038799], [45.5788197, 9.0029417], [45.5790712, 9.0023641], [45.5799191, 9.0003482], [45.5803234, 8.99938], [45.5805239, 8.9988958], [45.5807212, 8.9984374], [45.5294124, 9.0952938], [45.5324805, 9.0895782], [45.5399105, 9.0757238], [45.5994091, 8.9539315], [45.5994385, 8.9538613], [45.5994385, 8.9538613], [45.6008784, 8.9505073], [45.6009267, 8.9503909], [45.6009267, 8.9503909], [45.6024292, 8.9468105], [45.6029282, 8.9456466], [45.6043687, 8.9422785], [45.6057943, 8.9387702], [45.6058308, 8.9386816], [45.6063998, 8.9373619], [45.606975, 8.9359625], [45.6076079, 8.9344641], [45.6095141, 8.9299211], [45.6103853, 8.9278204], [45.6150262, 8.9167995], [45.6189588, 8.9074634], [45.6189588, 8.9074634], [45.6191068, 8.9071119], [45.6237877, 8.8959608]],\n",
       "                {&quot;bubblingMouseEvents&quot;: true, &quot;color&quot;: &quot;red&quot;, &quot;dashArray&quot;: null, &quot;dashOffset&quot;: null, &quot;fill&quot;: false, &quot;fillColor&quot;: &quot;red&quot;, &quot;fillOpacity&quot;: 0.2, &quot;fillRule&quot;: &quot;evenodd&quot;, &quot;lineCap&quot;: &quot;round&quot;, &quot;lineJoin&quot;: &quot;round&quot;, &quot;noClip&quot;: false, &quot;opacity&quot;: 0.8, &quot;smoothFactor&quot;: 1.0, &quot;stroke&quot;: true, &quot;weight&quot;: 10}\n",
       "            ).addTo(map_580c0a49875339f8f3efda14eea6aa90);\n",
       "        \n",
       "    \n",
       "            var poly_line_cfff5cd46328bf1bcab69ec66aaf8194 = L.polyline(\n",
       "                [[45.514759, 9.241536], [45.514852, 9.241499], [45.515261, 9.241323], [45.515846, 9.241076], [45.51657, 9.240758], [45.516861, 9.242128], [45.517189, 9.243682], [45.517296, 9.243933], [45.517565, 9.243798], [45.518016, 9.243571], [45.518107, 9.243528], [45.51845, 9.243366], [45.51861, 9.243284], [45.518778, 9.243154], [45.518961, 9.243041], [45.519049, 9.243], [45.519339, 9.242844], [45.519925, 9.242534], [45.521127, 9.241886], [45.521988, 9.24143], [45.522706, 9.24115], [45.523019, 9.241091], [45.524243, 9.240997], [45.5244, 9.240993], [45.525792, 9.240961], [45.526107, 9.240953], [45.526457, 9.240939], [45.527089, 9.240893], [45.527133, 9.24089], [45.528, 9.240834], [45.52807, 9.240851], [45.52812, 9.240913], [45.528146, 9.240955], [45.528217, 9.240994], [45.52829, 9.240965], [45.528336, 9.240878], [45.528584, 9.240849], [45.528761, 9.240851], [45.528936, 9.2409], [45.528995, 9.240905], [45.529233, 9.240844], [45.529381, 9.240886], [45.529473, 9.240852], [45.52957, 9.240948], [45.529785, 9.241346], [45.531032, 9.243618], [45.531985, 9.245443], [45.5325, 9.246394], [45.533194, 9.247674], [45.533266, 9.247798], [45.533424, 9.248097], [45.534371, 9.24986], [45.534426, 9.249962], [45.534643, 9.250339], [45.534811, 9.250618], [45.534831, 9.250688], [45.534853, 9.250709], [45.535595, 9.252075], [45.535946, 9.252741], [45.536428, 9.253619], [45.536806, 9.254286], [45.537163, 9.254864], [45.537591, 9.255557], [45.538973, 9.257974], [45.539093, 9.258142], [45.539306, 9.258372], [45.539514, 9.25854], [45.539802, 9.258722], [45.540182, 9.258834], [45.540546, 9.25885], [45.540992, 9.258792], [45.542938, 9.258454], [45.543359, 9.258428], [45.543913, 9.258441], [45.544049, 9.258448], [45.544959, 9.258508], [45.545203, 9.258578], [45.545324, 9.258677], [45.545361, 9.258776], [45.545423, 9.258854], [45.545494, 9.258905], [45.545566, 9.258932], [45.545722, 9.258902], [45.545784, 9.258851], [45.546105, 9.258387], [45.546197, 9.258302], [45.546281, 9.258255], [45.546411, 9.258221], [45.546571, 9.258269], [45.546657, 9.258328], [45.5468, 9.258495], [45.54687, 9.25861], [45.54704, 9.259009], [45.547076, 9.259286], [45.547076, 9.259401], [45.547032, 9.259731], [45.546823, 9.260493], [45.546766, 9.260699], [45.546733, 9.260903], [45.546742, 9.261121], [45.546796, 9.261303], [45.546903, 9.261465], [45.547029, 9.261559], [45.547104, 9.261592], [45.547249, 9.261598], [45.547402, 9.261528], [45.547942, 9.261083], [45.548062, 9.261015], [45.548277, 9.26097], [45.548399, 9.260981], [45.548506, 9.261019], [45.549158, 9.261362], [45.549412, 9.261423], [45.549892, 9.261689], [45.550187, 9.261914], [45.550311, 9.262083], [45.550506, 9.262465], [45.551224, 9.263784], [45.551304, 9.26393], [45.551454, 9.264206], [45.551814, 9.264993], [45.552185, 9.26579], [45.552384, 9.266136], [45.55267, 9.266482], [45.552845, 9.266643], [45.553017, 9.266769], [45.553349, 9.266923], [45.553791, 9.267016], [45.554092, 9.267032], [45.554294, 9.267006], [45.554697, 9.26689], [45.554936, 9.266787], [45.555136, 9.266671], [45.555378, 9.266542], [45.555461, 9.266475], [45.556157, 9.265836], [45.556331, 9.265691], [45.556522, 9.265613], [45.55672, 9.265577], [45.55687, 9.26563], [45.556947, 9.265679], [45.557069, 9.265812], [45.557148, 9.265976], [45.557184, 9.266154], [45.557188, 9.266355], [45.557156, 9.266545], [45.557086, 9.266705], [45.556971, 9.266846], [45.556806, 9.266942], [45.556676, 9.26695], [45.55656, 9.266912], [45.556457, 9.266838], [45.556323, 9.266686], [45.55608, 9.266255], [45.555933, 9.265901], [45.55566, 9.265018], [45.555357, 9.263032], [45.554896, 9.260164], [45.554527, 9.257624], [45.553158, 9.248555], [45.551649, 9.238502], [45.551567, 9.237954], [45.55132, 9.236307], [45.551158, 9.235138], [45.551098, 9.234507], [45.55059, 9.230737], [45.549694, 9.225208], [45.549231, 9.222151], [45.549206, 9.221987], [45.548968, 9.220187], [45.548954, 9.220044], [45.548856, 9.218924], [45.548788, 9.217795], [45.548778, 9.217571], [45.5487, 9.214856], [45.548578, 9.210645], [45.548418, 9.205745], [45.54836, 9.203945], [45.54829, 9.202941], [45.548193, 9.202005], [45.548022, 9.200799], [45.547848, 9.199814], [45.547533, 9.198489], [45.546899, 9.195959], [45.544705, 9.187515], [45.544615, 9.18717], [45.543386, 9.182403], [45.542936, 9.180745], [45.542882, 9.180533], [45.542259, 9.178296], [45.541393, 9.175212], [45.541203, 9.174617], [45.54116, 9.17448], [45.540866, 9.173495], [45.540781, 9.173249], [45.540365, 9.172086], [45.54031, 9.171934], [45.540016, 9.171124], [45.539479, 9.16973], [45.538885, 9.168313], [45.538493, 9.167432], [45.538104, 9.166615], [45.536191, 9.162605], [45.535949, 9.162114], [45.535391, 9.160937], [45.53503, 9.160195], [45.530731, 9.151308], [45.529007, 9.147741], [45.526708, 9.142917], [45.525357, 9.140106], [45.525216, 9.139818], [45.524036, 9.1374], [45.522593, 9.134445], [45.520676, 9.130489], [45.519785, 9.128595], [45.518965, 9.126941], [45.518824, 9.126687], [45.518212, 9.125663], [45.517713, 9.124916], [45.516758, 9.123387], [45.516594, 9.123168], [45.516266, 9.122468], [45.516098, 9.122059], [45.515894, 9.121431], [45.515775, 9.121011], [45.515701, 9.120611], [45.515653, 9.120247], [45.515618, 9.119784], [45.51559, 9.119085], [45.515501, 9.116847], [45.5154, 9.114375], [45.515252, 9.110703], [45.515242, 9.110479], [45.515115, 9.107345], [45.515067, 9.106215], [45.514997, 9.104615], [45.514954, 9.103642], [45.514577, 9.095019], [45.514076, 9.083938], [45.51387, 9.079705], [45.513669, 9.075865], [45.51351, 9.073198], [45.513242, 9.069732], [45.513042, 9.067593], [45.512932, 9.06646], [45.512796, 9.065072], [45.512616, 9.06362], [45.51259, 9.063295], [45.512593, 9.062528], [45.512624, 9.061772], [45.51258, 9.061089], [45.512483, 9.060416], [45.512369, 9.059804], [45.512297, 9.059367], [45.512055, 9.058146], [45.511569, 9.053592], [45.511374, 9.051816], [45.511327, 9.051398], [45.508408, 9.02439], [45.507302, 9.014319], [45.506801, 9.009169], [45.506441, 9.004781], [45.506098, 9.000624], [45.505313, 8.990351], [45.503607, 8.969311], [45.503053, 8.962706], [45.502365, 8.954032], [45.50201, 8.950715], [45.501392, 8.945307], [45.500746, 8.939144], [45.500377, 8.934813], [45.499412, 8.925139], [45.498823, 8.919591], [45.497812, 8.910414], [45.497534, 8.908092], [45.497476, 8.907648], [45.49733, 8.906497], [45.496705, 8.901963], [45.495644, 8.895191], [45.495261, 8.892941], [45.494445, 8.888466], [45.493558, 8.883993], [45.493529, 8.883844], [45.493082, 8.881571], [45.492321, 8.877228], [45.491569, 8.872506], [45.491324, 8.871039], [45.491048, 8.869529], [45.490744, 8.867903], [45.490534, 8.866864], [45.490157, 8.865347], [45.490074, 8.864949], [45.489968, 8.864305], [45.489941, 8.863616], [45.489952, 8.863137], [45.489974, 8.862792], [45.490025, 8.862369], [45.490069, 8.862125], [45.490362, 8.860783], [45.490386, 8.860394], [45.490358, 8.860203], [45.490269, 8.859935], [45.490211, 8.859794], [45.489993, 8.859409], [45.489334, 8.858523], [45.48896, 8.857985], [45.488712, 8.857562], [45.488459, 8.857036], [45.48815, 8.856323], [45.487369, 8.85474], [45.486953, 8.854025], [45.48665, 8.853565], [45.486216, 8.852739], [45.485614, 8.851149], [45.48542, 8.850526], [45.485387, 8.850264], [45.485388, 8.849975], [45.485418, 8.849766], [45.485482, 8.849537], [45.485568, 8.849319], [45.485691, 8.84913], [45.486288, 8.848495], [45.486627, 8.848099], [45.486948, 8.847648], [45.487141, 8.847407], [45.487317, 8.847238], [45.488366, 8.846438], [45.489147, 8.845912], [45.490119, 8.845223], [45.490749, 8.844767], [45.492206, 8.843405], [45.493687, 8.842124], [45.496344, 8.839763], [45.49703, 8.839082], [45.499134, 8.836865], [45.500067, 8.835875], [45.500999, 8.834927], [45.501385, 8.834557], [45.502086, 8.833933], [45.502992, 8.83321], [45.503917, 8.832609], [45.505722, 8.831611], [45.506484, 8.831123], [45.507252, 8.830579], [45.508714, 8.829233], [45.509962, 8.827889], [45.511763, 8.825603], [45.512989, 8.824345], [45.513772, 8.823721], [45.514228, 8.823386], [45.514792, 8.823036], [45.515476, 8.822662], [45.516296, 8.822279], [45.517914, 8.821618], [45.51859, 8.821322], [45.519284, 8.820985], [45.519785, 8.820696], [45.520327, 8.820348], [45.520855, 8.819979], [45.521481, 8.819477], [45.522072, 8.81895], [45.522696, 8.818312], [45.523185, 8.817769], [45.523599, 8.817263], [45.524242, 8.816396], [45.524656, 8.815755], [45.525075, 8.815051], [45.525555, 8.814165], [45.526127, 8.81302], [45.527336, 8.810374], [45.527903, 8.809122], [45.528515, 8.807655], [45.529556, 8.805375], [45.530067, 8.804385], [45.530614, 8.80345], [45.531362, 8.80238], [45.531968, 8.801587], [45.532566, 8.800904], [45.533187, 8.800279], [45.534034, 8.799528], [45.535142, 8.798649], [45.53826, 8.796279], [45.538863, 8.795859], [45.539666, 8.795381], [45.540198, 8.79514], [45.540743, 8.794935], [45.541227, 8.794804], [45.542062, 8.794658], [45.542463, 8.794633], [45.543282, 8.794631], [45.546464, 8.794766], [45.546712, 8.794771], [45.548787, 8.79488], [45.549695, 8.79468], [45.550589, 8.794309], [45.552345, 8.793508], [45.553693, 8.792825], [45.554396, 8.79256], [45.555094, 8.792359], [45.556445, 8.792083], [45.557032, 8.79192], [45.557601, 8.791691], [45.558163, 8.791394], [45.558682, 8.791054], [45.559611, 8.790196], [45.560192, 8.789526], [45.560689, 8.788822], [45.561254, 8.787843], [45.561554, 8.787176], [45.561833, 8.786513], [45.562718, 8.78412], [45.563194, 8.782802], [45.563608, 8.781683], [45.56412, 8.780578], [45.564186, 8.780454], [45.564524, 8.77984], [45.564901, 8.779253], [45.565301, 8.77867], [45.565721, 8.778166], [45.566398, 8.777477], [45.567108, 8.77687], [45.570757, 8.773952], [45.571368, 8.773388], [45.572213, 8.772432], [45.57284, 8.771509], [45.573363, 8.770457], [45.573605, 8.769846], [45.5738, 8.769249], [45.573976, 8.768565], [45.574078, 8.768067], [45.57417, 8.767519], [45.57425, 8.766743], [45.574287, 8.765852], [45.574275, 8.765118], [45.574223, 8.76426], [45.574147, 8.763491], [45.57406, 8.762698], [45.573335, 8.757352], [45.572907, 8.754401], [45.572712, 8.753355], [45.572391, 8.751915], [45.571648, 8.749188], [45.571391, 8.748073], [45.571215, 8.747051], [45.571133, 8.7463], [45.57111, 8.745629], [45.571142, 8.744771], [45.571251, 8.743825], [45.571536, 8.742609], [45.57179, 8.741865], [45.572083, 8.741189], [45.572439, 8.740536], [45.572748, 8.740037], [45.572811, 8.739936], [45.573764, 8.738573], [45.576319, 8.734973], [45.57945, 8.730552], [45.579986, 8.729884], [45.580545, 8.729309], [45.581159, 8.728851], [45.58198, 8.728339], [45.582452, 8.727997], [45.582956, 8.727555], [45.58338, 8.727083], [45.583753, 8.726591], [45.584087, 8.726051], [45.584345, 8.725536], [45.584576, 8.725011], [45.584781, 8.724451], [45.584969, 8.723817], [45.585111, 8.723162], [45.585394, 8.721575], [45.585482, 8.721177], [45.585656, 8.720531], [45.585846, 8.719946], [45.586093, 8.719343], [45.586493, 8.718541], [45.586769, 8.71807], [45.587064, 8.717636], [45.58742, 8.717174], [45.587779, 8.716793], [45.588169, 8.716436], [45.588567, 8.71612], [45.588998, 8.715834], [45.589433, 8.715613], [45.589895, 8.715425], [45.590358, 8.715289], [45.590835, 8.715179], [45.592472, 8.714799], [45.595397, 8.714109], [45.59872, 8.713354], [45.599991, 8.713007], [45.601254, 8.712621], [45.603797, 8.711789], [45.607461, 8.710831], [45.610255, 8.710135], [45.611545, 8.709802], [45.613456, 8.709352], [45.614353, 8.709127], [45.618028, 8.708238], [45.618636, 8.708015], [45.619421, 8.707624], [45.619857, 8.707477], [45.620964, 8.707056], [45.621159, 8.707027], [45.621685, 8.70711], [45.622707, 8.707014], [45.624555, 8.706771], [45.624725, 8.706776], [45.624881, 8.706858], [45.624999, 8.707003], [45.625084, 8.707208], [45.625148, 8.707544], [45.625095, 8.707904], [45.625014, 8.708304], [45.62497, 8.708469], [45.624788, 8.708739], [45.624536, 8.709295], [45.624286, 8.709915], [45.624165, 8.710149], [45.623994, 8.710391], [45.623673, 8.710793], [45.623598, 8.710848], [45.623538, 8.710931], [45.623498, 8.711035], [45.62348, 8.711153], [45.623486, 8.711273], [45.623518, 8.711386], [45.62357, 8.71148], [45.623648, 8.711554], [45.623739, 8.711588], [45.623835, 8.711578], [45.623923, 8.711523], [45.623993, 8.711429], [45.624106, 8.711257], [45.624404, 8.711117], [45.624642, 8.71111], [45.624742, 8.711136], [45.624911, 8.711124], [45.625139, 8.711111], [45.625293, 8.711093], [45.626088, 8.710888], [45.6267, 8.710708], [45.626844, 8.710679], [45.626969, 8.710714], [45.627175, 8.710666], [45.627507, 8.710537], [45.627591, 8.710463], [45.627784, 8.710382]],\n",
       "                {&quot;bubblingMouseEvents&quot;: true, &quot;color&quot;: &quot;blue&quot;, &quot;dashArray&quot;: null, &quot;dashOffset&quot;: null, &quot;fill&quot;: false, &quot;fillColor&quot;: &quot;blue&quot;, &quot;fillOpacity&quot;: 0.2, &quot;fillRule&quot;: &quot;evenodd&quot;, &quot;lineCap&quot;: &quot;round&quot;, &quot;lineJoin&quot;: &quot;round&quot;, &quot;noClip&quot;: false, &quot;opacity&quot;: 0.8, &quot;smoothFactor&quot;: 1.0, &quot;stroke&quot;: true, &quot;weight&quot;: 5}\n",
       "            ).addTo(map_580c0a49875339f8f3efda14eea6aa90);\n",
       "        \n",
       "&lt;/script&gt;\n",
       "&lt;/html&gt;\" style=\"position:absolute;width:100%;height:100%;left:0;top:0;border:none !important;\" allowfullscreen webkitallowfullscreen mozallowfullscreen></iframe></div></div>"
      ],
      "text/plain": [
       "<folium.folium.Map at 0x1ca5880c290>"
      ]
     },
     "execution_count": 60,
     "metadata": {},
     "output_type": "execute_result"
    }
   ],
   "source": [
    "import openrouteservice\n",
    "import subprocess\n",
    "global client\n",
    "\n",
    "subprocess.Popen('wsl ~ docker compose -f ~/milano/docker-compose.yml up', shell=True)\n",
    "client = openrouteservice.Client(base_url='http://localhost:8080/ors')\n",
    "\n",
    "request_params = {'coordinates': [[9.2411007,45.5146718],[8.71041,45.62779]],\n",
    "                 'format_out': 'geojson',\n",
    "                 'profile': 'driving-car',\n",
    "                 'preference': 'recommended',\n",
    "                 'instructions': True}\n",
    "\n",
    "request_params['options'] = {'avoid_polygons': avoid_polygon}\n",
    "\n",
    "route_directions = client.directions(**request_params)\n",
    "\n",
    "loc = route_directions['features'][0]['geometry']['coordinates']\n",
    "loc = [(x[1],x[0]) for x in loc]\n",
    "folium.PolyLine(loc,\n",
    "                color='blue',\n",
    "                weight=5,\n",
    "                opacity=0.8).add_to(m)\n",
    "print(route_directions['features'][0]['properties']['summary'])\n",
    "m"
   ]
  },
  {
   "cell_type": "markdown",
   "metadata": {},
   "source": [
    "Now let us see what would happen in case there was no disruption for the same route."
   ]
  },
  {
   "cell_type": "code",
   "execution_count": null,
   "metadata": {},
   "outputs": [
    {
     "name": "stdout",
     "output_type": "stream",
     "text": [
      "{'distance': 61889.6, 'duration': 3285.5}\n"
     ]
    },
    {
     "data": {
      "text/html": [
       "<div style=\"width:100%;\"><div style=\"position:relative;width:100%;height:0;padding-bottom:60%;\"><span style=\"color:#565656\">Make this Notebook Trusted to load map: File -> Trust Notebook</span><iframe srcdoc=\"&lt;!DOCTYPE html&gt;\n",
       "&lt;html&gt;\n",
       "&lt;head&gt;\n",
       "    \n",
       "    &lt;meta http-equiv=&quot;content-type&quot; content=&quot;text/html; charset=UTF-8&quot; /&gt;\n",
       "    \n",
       "        &lt;script&gt;\n",
       "            L_NO_TOUCH = false;\n",
       "            L_DISABLE_3D = false;\n",
       "        &lt;/script&gt;\n",
       "    \n",
       "    &lt;style&gt;html, body {width: 100%;height: 100%;margin: 0;padding: 0;}&lt;/style&gt;\n",
       "    &lt;style&gt;#map {position:absolute;top:0;bottom:0;right:0;left:0;}&lt;/style&gt;\n",
       "    &lt;script src=&quot;https://cdn.jsdelivr.net/npm/leaflet@1.9.3/dist/leaflet.js&quot;&gt;&lt;/script&gt;\n",
       "    &lt;script src=&quot;https://code.jquery.com/jquery-1.12.4.min.js&quot;&gt;&lt;/script&gt;\n",
       "    &lt;script src=&quot;https://cdn.jsdelivr.net/npm/bootstrap@5.2.2/dist/js/bootstrap.bundle.min.js&quot;&gt;&lt;/script&gt;\n",
       "    &lt;script src=&quot;https://cdnjs.cloudflare.com/ajax/libs/Leaflet.awesome-markers/2.0.2/leaflet.awesome-markers.js&quot;&gt;&lt;/script&gt;\n",
       "    &lt;link rel=&quot;stylesheet&quot; href=&quot;https://cdn.jsdelivr.net/npm/leaflet@1.9.3/dist/leaflet.css&quot;/&gt;\n",
       "    &lt;link rel=&quot;stylesheet&quot; href=&quot;https://cdn.jsdelivr.net/npm/bootstrap@5.2.2/dist/css/bootstrap.min.css&quot;/&gt;\n",
       "    &lt;link rel=&quot;stylesheet&quot; href=&quot;https://netdna.bootstrapcdn.com/bootstrap/3.0.0/css/bootstrap.min.css&quot;/&gt;\n",
       "    &lt;link rel=&quot;stylesheet&quot; href=&quot;https://cdn.jsdelivr.net/npm/@fortawesome/fontawesome-free@6.2.0/css/all.min.css&quot;/&gt;\n",
       "    &lt;link rel=&quot;stylesheet&quot; href=&quot;https://cdnjs.cloudflare.com/ajax/libs/Leaflet.awesome-markers/2.0.2/leaflet.awesome-markers.css&quot;/&gt;\n",
       "    &lt;link rel=&quot;stylesheet&quot; href=&quot;https://cdn.jsdelivr.net/gh/python-visualization/folium/folium/templates/leaflet.awesome.rotate.min.css&quot;/&gt;\n",
       "    \n",
       "            &lt;meta name=&quot;viewport&quot; content=&quot;width=device-width,\n",
       "                initial-scale=1.0, maximum-scale=1.0, user-scalable=no&quot; /&gt;\n",
       "            &lt;style&gt;\n",
       "                #map_580c0a49875339f8f3efda14eea6aa90 {\n",
       "                    position: relative;\n",
       "                    width: 100.0%;\n",
       "                    height: 100.0%;\n",
       "                    left: 0.0%;\n",
       "                    top: 0.0%;\n",
       "                }\n",
       "                .leaflet-container { font-size: 1rem; }\n",
       "            &lt;/style&gt;\n",
       "        \n",
       "&lt;/head&gt;\n",
       "&lt;body&gt;\n",
       "    \n",
       "    \n",
       "            &lt;div class=&quot;folium-map&quot; id=&quot;map_580c0a49875339f8f3efda14eea6aa90&quot; &gt;&lt;/div&gt;\n",
       "        \n",
       "&lt;/body&gt;\n",
       "&lt;script&gt;\n",
       "    \n",
       "    \n",
       "            var map_580c0a49875339f8f3efda14eea6aa90 = L.map(\n",
       "                &quot;map_580c0a49875339f8f3efda14eea6aa90&quot;,\n",
       "                {\n",
       "                    center: [45.60524, 8.94081],\n",
       "                    crs: L.CRS.EPSG3857,\n",
       "                    zoom: 12,\n",
       "                    zoomControl: true,\n",
       "                    preferCanvas: false,\n",
       "                }\n",
       "            );\n",
       "\n",
       "            \n",
       "\n",
       "        \n",
       "    \n",
       "            var tile_layer_c5bd0e87ea3fef53bb8d5b774bc38ffc = L.tileLayer(\n",
       "                &quot;https://{s}.tile.openstreetmap.org/{z}/{x}/{y}.png&quot;,\n",
       "                {&quot;attribution&quot;: &quot;Data by \\u0026copy; \\u003ca target=\\&quot;_blank\\&quot; href=\\&quot;http://openstreetmap.org\\&quot;\\u003eOpenStreetMap\\u003c/a\\u003e, under \\u003ca target=\\&quot;_blank\\&quot; href=\\&quot;http://www.openstreetmap.org/copyright\\&quot;\\u003eODbL\\u003c/a\\u003e.&quot;, &quot;detectRetina&quot;: false, &quot;maxNativeZoom&quot;: 18, &quot;maxZoom&quot;: 18, &quot;minZoom&quot;: 0, &quot;noWrap&quot;: false, &quot;opacity&quot;: 1, &quot;subdomains&quot;: &quot;abc&quot;, &quot;tms&quot;: false}\n",
       "            ).addTo(map_580c0a49875339f8f3efda14eea6aa90);\n",
       "        \n",
       "    \n",
       "            var poly_line_31dde5a617f531fe0e75051999c53ee9 = L.polyline(\n",
       "                [[45.6237877, 8.8959608], [45.6242828, 8.8947785], [45.6263547, 8.8898295], [45.6236044, 8.8963921], [45.6237877, 8.8959608], [45.5807212, 8.9984374], [45.5823281, 8.9945919], [45.5830623, 8.9928206], [45.5875296, 8.9822825], [45.5885479, 8.9798533], [45.5895722, 8.977454], [45.5919233, 8.9718386], [45.5965304, 8.9608285], [45.5994091, 8.9539315], [45.5399105, 9.0757238], [45.5469913, 9.0625873], [45.5472317, 9.0621414], [45.5474154, 9.061842], [45.5474154, 9.061842], [45.5475905, 9.061583], [45.547827, 9.061297], [45.5479438, 9.0611774], [45.5480953, 9.0610282], [45.5482142, 9.0609116], [45.5483057, 9.060789], [45.5484003, 9.0606247], [45.5484799, 9.0604821], [45.5486443, 9.0601835], [45.5486443, 9.0601835], [45.5486757, 9.0601269], [45.5486757, 9.0601269], [45.5487098, 9.060062], [45.5487098, 9.060062], [45.5488213, 9.0598362], [45.5489529, 9.0595427], [45.5491529, 9.0590289], [45.5491529, 9.0590289], [45.5494658, 9.0582072], [45.5495949, 9.0579106], [45.549736, 9.0576319], [45.5498865, 9.0573449], [45.5501751, 9.0568167], [45.5510431, 9.0552334], [45.5510431, 9.0552334], [45.551653, 9.054088], [45.5521593, 9.0531461], [45.5526018, 9.0523028], [45.5526018, 9.0523028], [45.5528987, 9.0517423], [45.5528987, 9.0517423], [45.5536827, 9.0501839], [45.5536827, 9.0501839], [45.5549099, 9.047806], [45.5560107, 9.0457334], [45.5569547, 9.0439652], [45.5578985, 9.0421381], [45.5578985, 9.0421381], [45.5582827, 9.0414178], [45.5592065, 9.0396871], [45.5608051, 9.0367004], [45.5611756, 9.0360101], [45.5611756, 9.0360101], [45.5615729, 9.0352612], [45.562301, 9.0339062], [45.5640984, 9.0305456], [45.5650302, 9.0287994], [45.565513, 9.0279012], [45.5659473, 9.027089], [45.5671979, 9.0247535], [45.5682524, 9.0227785], [45.5686002, 9.022135], [45.5686002, 9.022135], [45.5691383, 9.0211312], [45.5691383, 9.0211312], [45.5703538, 9.0188573], [45.5703538, 9.0188573], [45.5725426, 9.0148192], [45.5725426, 9.0148192], [45.5729806, 9.0139849], [45.5742371, 9.0116852], [45.5762573, 9.0081125], [45.5769782, 9.0067285], [45.577962, 9.0048064], [45.577962, 9.0048064], [45.578425, 9.0038799], [45.5788197, 9.0029417], [45.5790712, 9.0023641], [45.5799191, 9.0003482], [45.5803234, 8.99938], [45.5805239, 8.9988958], [45.5807212, 8.9984374], [45.5294124, 9.0952938], [45.5324805, 9.0895782], [45.5399105, 9.0757238], [45.5994091, 8.9539315], [45.5994385, 8.9538613], [45.5994385, 8.9538613], [45.6008784, 8.9505073], [45.6009267, 8.9503909], [45.6009267, 8.9503909], [45.6024292, 8.9468105], [45.6029282, 8.9456466], [45.6043687, 8.9422785], [45.6057943, 8.9387702], [45.6058308, 8.9386816], [45.6063998, 8.9373619], [45.606975, 8.9359625], [45.6076079, 8.9344641], [45.6095141, 8.9299211], [45.6103853, 8.9278204], [45.6150262, 8.9167995], [45.6189588, 8.9074634], [45.6189588, 8.9074634], [45.6191068, 8.9071119], [45.6237877, 8.8959608]],\n",
       "                {&quot;bubblingMouseEvents&quot;: true, &quot;color&quot;: &quot;red&quot;, &quot;dashArray&quot;: null, &quot;dashOffset&quot;: null, &quot;fill&quot;: false, &quot;fillColor&quot;: &quot;red&quot;, &quot;fillOpacity&quot;: 0.2, &quot;fillRule&quot;: &quot;evenodd&quot;, &quot;lineCap&quot;: &quot;round&quot;, &quot;lineJoin&quot;: &quot;round&quot;, &quot;noClip&quot;: false, &quot;opacity&quot;: 0.8, &quot;smoothFactor&quot;: 1.0, &quot;stroke&quot;: true, &quot;weight&quot;: 10}\n",
       "            ).addTo(map_580c0a49875339f8f3efda14eea6aa90);\n",
       "        \n",
       "    \n",
       "            var poly_line_cfff5cd46328bf1bcab69ec66aaf8194 = L.polyline(\n",
       "                [[45.514759, 9.241536], [45.514852, 9.241499], [45.515261, 9.241323], [45.515846, 9.241076], [45.51657, 9.240758], [45.516861, 9.242128], [45.517189, 9.243682], [45.517296, 9.243933], [45.517565, 9.243798], [45.518016, 9.243571], [45.518107, 9.243528], [45.51845, 9.243366], [45.51861, 9.243284], [45.518778, 9.243154], [45.518961, 9.243041], [45.519049, 9.243], [45.519339, 9.242844], [45.519925, 9.242534], [45.521127, 9.241886], [45.521988, 9.24143], [45.522706, 9.24115], [45.523019, 9.241091], [45.524243, 9.240997], [45.5244, 9.240993], [45.525792, 9.240961], [45.526107, 9.240953], [45.526457, 9.240939], [45.527089, 9.240893], [45.527133, 9.24089], [45.528, 9.240834], [45.52807, 9.240851], [45.52812, 9.240913], [45.528146, 9.240955], [45.528217, 9.240994], [45.52829, 9.240965], [45.528336, 9.240878], [45.528584, 9.240849], [45.528761, 9.240851], [45.528936, 9.2409], [45.528995, 9.240905], [45.529233, 9.240844], [45.529381, 9.240886], [45.529473, 9.240852], [45.52957, 9.240948], [45.529785, 9.241346], [45.531032, 9.243618], [45.531985, 9.245443], [45.5325, 9.246394], [45.533194, 9.247674], [45.533266, 9.247798], [45.533424, 9.248097], [45.534371, 9.24986], [45.534426, 9.249962], [45.534643, 9.250339], [45.534811, 9.250618], [45.534831, 9.250688], [45.534853, 9.250709], [45.535595, 9.252075], [45.535946, 9.252741], [45.536428, 9.253619], [45.536806, 9.254286], [45.537163, 9.254864], [45.537591, 9.255557], [45.538973, 9.257974], [45.539093, 9.258142], [45.539306, 9.258372], [45.539514, 9.25854], [45.539802, 9.258722], [45.540182, 9.258834], [45.540546, 9.25885], [45.540992, 9.258792], [45.542938, 9.258454], [45.543359, 9.258428], [45.543913, 9.258441], [45.544049, 9.258448], [45.544959, 9.258508], [45.545203, 9.258578], [45.545324, 9.258677], [45.545361, 9.258776], [45.545423, 9.258854], [45.545494, 9.258905], [45.545566, 9.258932], [45.545722, 9.258902], [45.545784, 9.258851], [45.546105, 9.258387], [45.546197, 9.258302], [45.546281, 9.258255], [45.546411, 9.258221], [45.546571, 9.258269], [45.546657, 9.258328], [45.5468, 9.258495], [45.54687, 9.25861], [45.54704, 9.259009], [45.547076, 9.259286], [45.547076, 9.259401], [45.547032, 9.259731], [45.546823, 9.260493], [45.546766, 9.260699], [45.546733, 9.260903], [45.546742, 9.261121], [45.546796, 9.261303], [45.546903, 9.261465], [45.547029, 9.261559], [45.547104, 9.261592], [45.547249, 9.261598], [45.547402, 9.261528], [45.547942, 9.261083], [45.548062, 9.261015], [45.548277, 9.26097], [45.548399, 9.260981], [45.548506, 9.261019], [45.549158, 9.261362], [45.549412, 9.261423], [45.549892, 9.261689], [45.550187, 9.261914], [45.550311, 9.262083], [45.550506, 9.262465], [45.551224, 9.263784], [45.551304, 9.26393], [45.551454, 9.264206], [45.551814, 9.264993], [45.552185, 9.26579], [45.552384, 9.266136], [45.55267, 9.266482], [45.552845, 9.266643], [45.553017, 9.266769], [45.553349, 9.266923], [45.553791, 9.267016], [45.554092, 9.267032], [45.554294, 9.267006], [45.554697, 9.26689], [45.554936, 9.266787], [45.555136, 9.266671], [45.555378, 9.266542], [45.555461, 9.266475], [45.556157, 9.265836], [45.556331, 9.265691], [45.556522, 9.265613], [45.55672, 9.265577], [45.55687, 9.26563], [45.556947, 9.265679], [45.557069, 9.265812], [45.557148, 9.265976], [45.557184, 9.266154], [45.557188, 9.266355], [45.557156, 9.266545], [45.557086, 9.266705], [45.556971, 9.266846], [45.556806, 9.266942], [45.556676, 9.26695], [45.55656, 9.266912], [45.556457, 9.266838], [45.556323, 9.266686], [45.55608, 9.266255], [45.555933, 9.265901], [45.55566, 9.265018], [45.555357, 9.263032], [45.554896, 9.260164], [45.554527, 9.257624], [45.553158, 9.248555], [45.551649, 9.238502], [45.551567, 9.237954], [45.55132, 9.236307], [45.551158, 9.235138], [45.551098, 9.234507], [45.55059, 9.230737], [45.549694, 9.225208], [45.549231, 9.222151], [45.549206, 9.221987], [45.548968, 9.220187], [45.548954, 9.220044], [45.548856, 9.218924], [45.548788, 9.217795], [45.548778, 9.217571], [45.5487, 9.214856], [45.548578, 9.210645], [45.548418, 9.205745], [45.54836, 9.203945], [45.54829, 9.202941], [45.548193, 9.202005], [45.548022, 9.200799], [45.547848, 9.199814], [45.547533, 9.198489], [45.546899, 9.195959], [45.544705, 9.187515], [45.544615, 9.18717], [45.543386, 9.182403], [45.542936, 9.180745], [45.542882, 9.180533], [45.542259, 9.178296], [45.541393, 9.175212], [45.541203, 9.174617], [45.54116, 9.17448], [45.540866, 9.173495], [45.540781, 9.173249], [45.540365, 9.172086], [45.54031, 9.171934], [45.540016, 9.171124], [45.539479, 9.16973], [45.538885, 9.168313], [45.538493, 9.167432], [45.538104, 9.166615], [45.536191, 9.162605], [45.535949, 9.162114], [45.535391, 9.160937], [45.53503, 9.160195], [45.530731, 9.151308], [45.529007, 9.147741], [45.526708, 9.142917], [45.525357, 9.140106], [45.525216, 9.139818], [45.524036, 9.1374], [45.522593, 9.134445], [45.520676, 9.130489], [45.519785, 9.128595], [45.518965, 9.126941], [45.518824, 9.126687], [45.518212, 9.125663], [45.517713, 9.124916], [45.516758, 9.123387], [45.516594, 9.123168], [45.516266, 9.122468], [45.516098, 9.122059], [45.515894, 9.121431], [45.515775, 9.121011], [45.515701, 9.120611], [45.515653, 9.120247], [45.515618, 9.119784], [45.51559, 9.119085], [45.515501, 9.116847], [45.5154, 9.114375], [45.515252, 9.110703], [45.515242, 9.110479], [45.515115, 9.107345], [45.515067, 9.106215], [45.514997, 9.104615], [45.514954, 9.103642], [45.514577, 9.095019], [45.514076, 9.083938], [45.51387, 9.079705], [45.513669, 9.075865], [45.51351, 9.073198], [45.513242, 9.069732], [45.513042, 9.067593], [45.512932, 9.06646], [45.512796, 9.065072], [45.512616, 9.06362], [45.51259, 9.063295], [45.512593, 9.062528], [45.512624, 9.061772], [45.51258, 9.061089], [45.512483, 9.060416], [45.512369, 9.059804], [45.512297, 9.059367], [45.512055, 9.058146], [45.511569, 9.053592], [45.511374, 9.051816], [45.511327, 9.051398], [45.508408, 9.02439], [45.507302, 9.014319], [45.506801, 9.009169], [45.506441, 9.004781], [45.506098, 9.000624], [45.505313, 8.990351], [45.503607, 8.969311], [45.503053, 8.962706], [45.502365, 8.954032], [45.50201, 8.950715], [45.501392, 8.945307], [45.500746, 8.939144], [45.500377, 8.934813], [45.499412, 8.925139], [45.498823, 8.919591], [45.497812, 8.910414], [45.497534, 8.908092], [45.497476, 8.907648], [45.49733, 8.906497], [45.496705, 8.901963], [45.495644, 8.895191], [45.495261, 8.892941], [45.494445, 8.888466], [45.493558, 8.883993], [45.493529, 8.883844], [45.493082, 8.881571], [45.492321, 8.877228], [45.491569, 8.872506], [45.491324, 8.871039], [45.491048, 8.869529], [45.490744, 8.867903], [45.490534, 8.866864], [45.490157, 8.865347], [45.490074, 8.864949], [45.489968, 8.864305], [45.489941, 8.863616], [45.489952, 8.863137], [45.489974, 8.862792], [45.490025, 8.862369], [45.490069, 8.862125], [45.490362, 8.860783], [45.490386, 8.860394], [45.490358, 8.860203], [45.490269, 8.859935], [45.490211, 8.859794], [45.489993, 8.859409], [45.489334, 8.858523], [45.48896, 8.857985], [45.488712, 8.857562], [45.488459, 8.857036], [45.48815, 8.856323], [45.487369, 8.85474], [45.486953, 8.854025], [45.48665, 8.853565], [45.486216, 8.852739], [45.485614, 8.851149], [45.48542, 8.850526], [45.485387, 8.850264], [45.485388, 8.849975], [45.485418, 8.849766], [45.485482, 8.849537], [45.485568, 8.849319], [45.485691, 8.84913], [45.486288, 8.848495], [45.486627, 8.848099], [45.486948, 8.847648], [45.487141, 8.847407], [45.487317, 8.847238], [45.488366, 8.846438], [45.489147, 8.845912], [45.490119, 8.845223], [45.490749, 8.844767], [45.492206, 8.843405], [45.493687, 8.842124], [45.496344, 8.839763], [45.49703, 8.839082], [45.499134, 8.836865], [45.500067, 8.835875], [45.500999, 8.834927], [45.501385, 8.834557], [45.502086, 8.833933], [45.502992, 8.83321], [45.503917, 8.832609], [45.505722, 8.831611], [45.506484, 8.831123], [45.507252, 8.830579], [45.508714, 8.829233], [45.509962, 8.827889], [45.511763, 8.825603], [45.512989, 8.824345], [45.513772, 8.823721], [45.514228, 8.823386], [45.514792, 8.823036], [45.515476, 8.822662], [45.516296, 8.822279], [45.517914, 8.821618], [45.51859, 8.821322], [45.519284, 8.820985], [45.519785, 8.820696], [45.520327, 8.820348], [45.520855, 8.819979], [45.521481, 8.819477], [45.522072, 8.81895], [45.522696, 8.818312], [45.523185, 8.817769], [45.523599, 8.817263], [45.524242, 8.816396], [45.524656, 8.815755], [45.525075, 8.815051], [45.525555, 8.814165], [45.526127, 8.81302], [45.527336, 8.810374], [45.527903, 8.809122], [45.528515, 8.807655], [45.529556, 8.805375], [45.530067, 8.804385], [45.530614, 8.80345], [45.531362, 8.80238], [45.531968, 8.801587], [45.532566, 8.800904], [45.533187, 8.800279], [45.534034, 8.799528], [45.535142, 8.798649], [45.53826, 8.796279], [45.538863, 8.795859], [45.539666, 8.795381], [45.540198, 8.79514], [45.540743, 8.794935], [45.541227, 8.794804], [45.542062, 8.794658], [45.542463, 8.794633], [45.543282, 8.794631], [45.546464, 8.794766], [45.546712, 8.794771], [45.548787, 8.79488], [45.549695, 8.79468], [45.550589, 8.794309], [45.552345, 8.793508], [45.553693, 8.792825], [45.554396, 8.79256], [45.555094, 8.792359], [45.556445, 8.792083], [45.557032, 8.79192], [45.557601, 8.791691], [45.558163, 8.791394], [45.558682, 8.791054], [45.559611, 8.790196], [45.560192, 8.789526], [45.560689, 8.788822], [45.561254, 8.787843], [45.561554, 8.787176], [45.561833, 8.786513], [45.562718, 8.78412], [45.563194, 8.782802], [45.563608, 8.781683], [45.56412, 8.780578], [45.564186, 8.780454], [45.564524, 8.77984], [45.564901, 8.779253], [45.565301, 8.77867], [45.565721, 8.778166], [45.566398, 8.777477], [45.567108, 8.77687], [45.570757, 8.773952], [45.571368, 8.773388], [45.572213, 8.772432], [45.57284, 8.771509], [45.573363, 8.770457], [45.573605, 8.769846], [45.5738, 8.769249], [45.573976, 8.768565], [45.574078, 8.768067], [45.57417, 8.767519], [45.57425, 8.766743], [45.574287, 8.765852], [45.574275, 8.765118], [45.574223, 8.76426], [45.574147, 8.763491], [45.57406, 8.762698], [45.573335, 8.757352], [45.572907, 8.754401], [45.572712, 8.753355], [45.572391, 8.751915], [45.571648, 8.749188], [45.571391, 8.748073], [45.571215, 8.747051], [45.571133, 8.7463], [45.57111, 8.745629], [45.571142, 8.744771], [45.571251, 8.743825], [45.571536, 8.742609], [45.57179, 8.741865], [45.572083, 8.741189], [45.572439, 8.740536], [45.572748, 8.740037], [45.572811, 8.739936], [45.573764, 8.738573], [45.576319, 8.734973], [45.57945, 8.730552], [45.579986, 8.729884], [45.580545, 8.729309], [45.581159, 8.728851], [45.58198, 8.728339], [45.582452, 8.727997], [45.582956, 8.727555], [45.58338, 8.727083], [45.583753, 8.726591], [45.584087, 8.726051], [45.584345, 8.725536], [45.584576, 8.725011], [45.584781, 8.724451], [45.584969, 8.723817], [45.585111, 8.723162], [45.585394, 8.721575], [45.585482, 8.721177], [45.585656, 8.720531], [45.585846, 8.719946], [45.586093, 8.719343], [45.586493, 8.718541], [45.586769, 8.71807], [45.587064, 8.717636], [45.58742, 8.717174], [45.587779, 8.716793], [45.588169, 8.716436], [45.588567, 8.71612], [45.588998, 8.715834], [45.589433, 8.715613], [45.589895, 8.715425], [45.590358, 8.715289], [45.590835, 8.715179], [45.592472, 8.714799], [45.595397, 8.714109], [45.59872, 8.713354], [45.599991, 8.713007], [45.601254, 8.712621], [45.603797, 8.711789], [45.607461, 8.710831], [45.610255, 8.710135], [45.611545, 8.709802], [45.613456, 8.709352], [45.614353, 8.709127], [45.618028, 8.708238], [45.618636, 8.708015], [45.619421, 8.707624], [45.619857, 8.707477], [45.620964, 8.707056], [45.621159, 8.707027], [45.621685, 8.70711], [45.622707, 8.707014], [45.624555, 8.706771], [45.624725, 8.706776], [45.624881, 8.706858], [45.624999, 8.707003], [45.625084, 8.707208], [45.625148, 8.707544], [45.625095, 8.707904], [45.625014, 8.708304], [45.62497, 8.708469], [45.624788, 8.708739], [45.624536, 8.709295], [45.624286, 8.709915], [45.624165, 8.710149], [45.623994, 8.710391], [45.623673, 8.710793], [45.623598, 8.710848], [45.623538, 8.710931], [45.623498, 8.711035], [45.62348, 8.711153], [45.623486, 8.711273], [45.623518, 8.711386], [45.62357, 8.71148], [45.623648, 8.711554], [45.623739, 8.711588], [45.623835, 8.711578], [45.623923, 8.711523], [45.623993, 8.711429], [45.624106, 8.711257], [45.624404, 8.711117], [45.624642, 8.71111], [45.624742, 8.711136], [45.624911, 8.711124], [45.625139, 8.711111], [45.625293, 8.711093], [45.626088, 8.710888], [45.6267, 8.710708], [45.626844, 8.710679], [45.626969, 8.710714], [45.627175, 8.710666], [45.627507, 8.710537], [45.627591, 8.710463], [45.627784, 8.710382]],\n",
       "                {&quot;bubblingMouseEvents&quot;: true, &quot;color&quot;: &quot;blue&quot;, &quot;dashArray&quot;: null, &quot;dashOffset&quot;: null, &quot;fill&quot;: false, &quot;fillColor&quot;: &quot;blue&quot;, &quot;fillOpacity&quot;: 0.2, &quot;fillRule&quot;: &quot;evenodd&quot;, &quot;lineCap&quot;: &quot;round&quot;, &quot;lineJoin&quot;: &quot;round&quot;, &quot;noClip&quot;: false, &quot;opacity&quot;: 0.8, &quot;smoothFactor&quot;: 1.0, &quot;stroke&quot;: true, &quot;weight&quot;: 5}\n",
       "            ).addTo(map_580c0a49875339f8f3efda14eea6aa90);\n",
       "        \n",
       "    \n",
       "            var poly_line_1ff895c06821aaafcb4e3cb766e132da = L.polyline(\n",
       "                [[45.514759, 9.241536], [45.514852, 9.241499], [45.515261, 9.241323], [45.515846, 9.241076], [45.51657, 9.240758], [45.516861, 9.242128], [45.517189, 9.243682], [45.517296, 9.243933], [45.517565, 9.243798], [45.518016, 9.243571], [45.518107, 9.243528], [45.51845, 9.243366], [45.51861, 9.243284], [45.518778, 9.243154], [45.518961, 9.243041], [45.519049, 9.243], [45.519339, 9.242844], [45.519925, 9.242534], [45.521127, 9.241886], [45.521988, 9.24143], [45.522706, 9.24115], [45.523019, 9.241091], [45.524243, 9.240997], [45.5244, 9.240993], [45.525792, 9.240961], [45.526107, 9.240953], [45.526457, 9.240939], [45.527089, 9.240893], [45.527133, 9.24089], [45.528, 9.240834], [45.52807, 9.240851], [45.52812, 9.240913], [45.528146, 9.240955], [45.528217, 9.240994], [45.52829, 9.240965], [45.528336, 9.240878], [45.528584, 9.240849], [45.528761, 9.240851], [45.528936, 9.2409], [45.528995, 9.240905], [45.529233, 9.240844], [45.529381, 9.240886], [45.529473, 9.240852], [45.52957, 9.240948], [45.529785, 9.241346], [45.531032, 9.243618], [45.531985, 9.245443], [45.5325, 9.246394], [45.533194, 9.247674], [45.533266, 9.247798], [45.533328, 9.247659], [45.535118, 9.244129], [45.535302, 9.244088], [45.535455, 9.244125], [45.536261, 9.244962], [45.536995, 9.245723], [45.537023, 9.24575], [45.537043, 9.245773], [45.543719, 9.252671], [45.54452, 9.25348], [45.544869, 9.253819], [45.54559, 9.254593], [45.545684, 9.25465], [45.545723, 9.254739], [45.545773, 9.254776], [45.54583, 9.254776], [45.545954, 9.254962], [45.546349, 9.255407], [45.546949, 9.256002], [45.547211, 9.256231], [45.547521, 9.256404], [45.547675, 9.256545], [45.547683, 9.256581], [45.547726, 9.256675], [45.547784, 9.256735], [45.547905, 9.256762], [45.547937, 9.256752], [45.548032, 9.256751], [45.548149, 9.25681], [45.548384, 9.257017], [45.548624, 9.257194], [45.5487, 9.257247], [45.550989, 9.258567], [45.551136, 9.258684], [45.551195, 9.258762], [45.551239, 9.258876], [45.551285, 9.258961], [45.551322, 9.258983], [45.551397, 9.258971], [45.551428, 9.258938], [45.551504, 9.258908], [45.551556, 9.258916], [45.551795, 9.25902], [45.552193, 9.259255], [45.552446, 9.259399], [45.552919, 9.259679], [45.553121, 9.259798], [45.553847, 9.260222], [45.553881, 9.260241], [45.553915, 9.260261], [45.554656, 9.260692], [45.555199, 9.26096], [45.555648, 9.261156], [45.556502, 9.261529], [45.556724, 9.261786], [45.556822, 9.261942], [45.557428, 9.263334], [45.557889, 9.264421], [45.557929, 9.26461], [45.558007, 9.264812], [45.558023, 9.265006], [45.557994, 9.26517], [45.557955, 9.265266], [45.557905, 9.265341], [45.557849, 9.265387], [45.557784, 9.265421], [45.55765, 9.265438], [45.557428, 9.265354], [45.557309, 9.26527], [45.557252, 9.265197], [45.557133, 9.264952], [45.557121, 9.264796], [45.557186, 9.264116], [45.557183, 9.26391], [45.557149, 9.263597], [45.557147, 9.263101], [45.557171, 9.262593], [45.557266, 9.26168], [45.557471, 9.26065], [45.557656, 9.259977], [45.557834, 9.259506], [45.558914, 9.257378], [45.559702, 9.255787], [45.559984, 9.255184], [45.560182, 9.254637], [45.560361, 9.254036], [45.560446, 9.253676], [45.560519, 9.253266], [45.560613, 9.252617], [45.560661, 9.251748], [45.56066, 9.251238], [45.560628, 9.250724], [45.560238, 9.245754], [45.560191, 9.245222], [45.560135, 9.244518], [45.56012, 9.243837], [45.560131, 9.243326], [45.560151, 9.243], [45.560196, 9.242617], [45.560287, 9.242047], [45.560436, 9.241391], [45.560567, 9.240929], [45.560739, 9.240425], [45.560805, 9.24024], [45.560902, 9.240029], [45.561137, 9.239567], [45.561596, 9.238827], [45.562675, 9.237197], [45.563638, 9.235642], [45.565352, 9.232262], [45.565587, 9.231803], [45.566201, 9.230793], [45.56679, 9.229943], [45.567452, 9.229105], [45.568071, 9.228398], [45.568617, 9.227872], [45.569006, 9.227508], [45.569953, 9.226742], [45.570615, 9.226282], [45.572395, 9.22506], [45.574034, 9.223705], [45.574408, 9.223274], [45.574821, 9.222718], [45.575108, 9.222272], [45.575458, 9.221638], [45.575772, 9.220963], [45.57598, 9.220437], [45.576166, 9.219887], [45.576373, 9.219135], [45.576501, 9.21855], [45.576602, 9.217957], [45.576677, 9.217363], [45.576723, 9.216757], [45.576754, 9.215739], [45.576739, 9.213007], [45.576703, 9.20823], [45.576699, 9.207746], [45.576672, 9.206725], [45.5766, 9.205974], [45.576466, 9.205243], [45.576328, 9.204714], [45.576217, 9.204366], [45.575953, 9.203708], [45.575637, 9.203096], [45.575276, 9.202546], [45.574865, 9.202053], [45.574533, 9.201729], [45.574182, 9.201449], [45.572362, 9.200238], [45.569695, 9.198469], [45.569445, 9.198277], [45.569109, 9.197984], [45.568573, 9.197433], [45.56808, 9.196812], [45.567804, 9.196405], [45.567548, 9.19598], [45.567308, 9.195531], [45.567051, 9.194979], [45.56684, 9.194456], [45.566644, 9.193884], [45.56656, 9.193618], [45.566376, 9.193017], [45.566295, 9.192751], [45.565609, 9.190501], [45.565398, 9.189739], [45.565342, 9.189553], [45.564966, 9.188311], [45.564513, 9.186808], [45.564044, 9.185137], [45.563876, 9.184611], [45.563349, 9.182448], [45.562694, 9.180052], [45.562167, 9.178228], [45.561034, 9.174627], [45.560468, 9.172927], [45.559816, 9.171096], [45.559521, 9.170259], [45.559372, 9.169826], [45.558808, 9.168107], [45.558755, 9.167915], [45.558626, 9.167417], [45.558401, 9.166215], [45.558345, 9.165715], [45.558291, 9.164978], [45.55826, 9.164288], [45.558237, 9.16123], [45.558229, 9.159601], [45.558249, 9.159081], [45.55829, 9.158742], [45.558364, 9.158352], [45.55844, 9.158043], [45.558681, 9.15727], [45.558869, 9.156666], [45.559014, 9.156067], [45.559072, 9.155747], [45.559111, 9.155421], [45.55914, 9.154717], [45.559124, 9.154327], [45.559095, 9.153955], [45.558985, 9.153152], [45.558763, 9.151896], [45.558338, 9.149516], [45.558205, 9.148931], [45.558068, 9.148449], [45.557925, 9.148023], [45.557679, 9.147463], [45.557424, 9.146995], [45.557155, 9.146596], [45.556986, 9.146386], [45.556701, 9.146087], [45.556397, 9.145818], [45.556027, 9.145581], [45.555697, 9.145424], [45.555237, 9.145269], [45.554861, 9.145191], [45.554542, 9.145163], [45.554115, 9.145207], [45.553449, 9.145402], [45.551264, 9.146316], [45.551105, 9.146382], [45.550555, 9.146612], [45.550398, 9.146678], [45.548573, 9.147451], [45.547883, 9.147722], [45.547271, 9.147947], [45.54704, 9.14803], [45.54649, 9.148176], [45.546177, 9.148198], [45.545858, 9.148178], [45.545306, 9.148034], [45.544993, 9.14791], [45.544689, 9.147742], [45.544377, 9.147513], [45.544078, 9.147243], [45.543768, 9.146888], [45.543501, 9.146505], [45.543278, 9.146107], [45.543096, 9.145668], [45.54294, 9.145232], [45.542823, 9.144819], [45.542734, 9.144368], [45.542655, 9.143835], [45.542545, 9.142534], [45.542445, 9.141271], [45.542254, 9.138918], [45.542078, 9.136379], [45.541994, 9.135361], [45.541874, 9.13438], [45.541806, 9.133997], [45.541727, 9.133638], [45.541492, 9.132878], [45.541337, 9.132495], [45.540946, 9.131654], [45.540417, 9.130747], [45.539773, 9.129756], [45.539165, 9.128802], [45.538469, 9.127682], [45.538208, 9.127265], [45.537165, 9.125636], [45.536701, 9.124917], [45.536453, 9.124435], [45.536298, 9.124034], [45.536208, 9.123757], [45.53594, 9.122725], [45.535376, 9.120143], [45.535334, 9.119957], [45.534682, 9.117041], [45.534525, 9.116493], [45.534344, 9.116003], [45.534113, 9.115497], [45.533849, 9.115025], [45.533681, 9.114749], [45.533464, 9.114465], [45.53308, 9.114031], [45.531978, 9.113009], [45.531567, 9.112574], [45.531368, 9.112334], [45.531058, 9.11191], [45.530802, 9.111483], [45.530677, 9.111243], [45.530457, 9.110755], [45.530271, 9.110238], [45.53017, 9.109907], [45.5301, 9.109622], [45.529961, 9.10842], [45.529939, 9.108113], [45.529914, 9.106487], [45.529845, 9.104236], [45.52981, 9.103007], [45.529814, 9.102499], [45.529843, 9.101775], [45.529953, 9.100542], [45.530055, 9.099862], [45.530287, 9.098464], [45.530359, 9.097799], [45.53037, 9.097449], [45.530409, 9.096828], [45.530494, 9.09649], [45.530564, 9.096326], [45.530658, 9.096168], [45.530935, 9.095866], [45.53105, 9.095708], [45.531155, 9.095505], [45.531212, 9.095317], [45.531248, 9.095045], [45.531242, 9.09484], [45.531199, 9.094599], [45.531128, 9.094395], [45.530805, 9.093848], [45.530762, 9.093719], [45.530736, 9.093565], [45.530737, 9.093408], [45.530757, 9.093264], [45.530811, 9.093089], [45.531064, 9.092553], [45.531338, 9.092066], [45.5315, 9.091585], [45.532216, 9.090273], [45.532481, 9.089578], [45.539911, 9.075724], [45.546991, 9.062587], [45.547232, 9.062141], [45.547415, 9.061842], [45.547591, 9.061583], [45.547827, 9.061297], [45.548214, 9.060912], [45.548306, 9.060789], [45.548644, 9.060184], [45.548676, 9.060127], [45.54871, 9.060062], [45.548953, 9.059543], [45.549153, 9.059029], [45.549466, 9.058207], [45.549595, 9.057911], [45.549887, 9.057345], [45.551043, 9.055233], [45.552602, 9.052303], [45.552899, 9.051742], [45.553683, 9.050184], [45.55491, 9.047806], [45.556955, 9.043965], [45.557899, 9.042138], [45.560805, 9.0367], [45.561176, 9.03601], [45.564098, 9.030546], [45.5686, 9.022135], [45.569138, 9.021131], [45.570354, 9.018857], [45.572543, 9.014819], [45.572981, 9.013985], [45.574237, 9.011685], [45.576257, 9.008113], [45.577962, 9.004806], [45.578425, 9.00388], [45.579919, 9.000348], [45.580721, 8.998437], [45.582328, 8.994592], [45.583062, 8.992821], [45.589572, 8.977454], [45.599409, 8.953932], [45.599439, 8.953861], [45.600927, 8.950391], [45.602429, 8.946811], [45.604369, 8.942279], [45.605831, 8.938682], [45.6064, 8.937362], [45.607608, 8.934464], [45.609514, 8.929921], [45.610385, 8.92782], [45.618959, 8.907463], [45.619107, 8.907112], [45.623604, 8.896392], [45.623788, 8.895961], [45.626355, 8.88983], [45.626529, 8.889422], [45.627385, 8.887424], [45.629509, 8.882308], [45.631031, 8.87874], [45.633518, 8.872786], [45.637934, 8.862334], [45.639278, 8.859127], [45.639812, 8.858169], [45.640027, 8.857918], [45.64019, 8.857794], [45.640391, 8.857692], [45.640868, 8.85754], [45.640968, 8.857459], [45.641057, 8.857345], [45.641115, 8.857209], [45.641139, 8.85707], [45.641141, 8.85692], [45.641112, 8.856781], [45.641048, 8.856643], [45.64094, 8.856505], [45.640763, 8.856344], [45.640211, 8.855877], [45.638817, 8.854649], [45.637939, 8.853865], [45.637716, 8.853605], [45.637579, 8.853358], [45.637469, 8.853084], [45.637402, 8.85285], [45.63735, 8.852541], [45.637335, 8.852288], [45.637343, 8.852015], [45.63739, 8.851601], [45.637987, 8.84629], [45.638119, 8.845134], [45.638338, 8.843116], [45.63911, 8.836462], [45.639334, 8.834505], [45.63968, 8.831444], [45.639766, 8.830559], [45.639806, 8.829815], [45.639843, 8.828509], [45.639887, 8.827007], [45.640213, 8.815127], [45.640532, 8.803058], [45.640576, 8.802552], [45.64065, 8.802003], [45.640763, 8.801456], [45.640901, 8.800966], [45.64187, 8.798295], [45.642458, 8.796688], [45.64269, 8.795996], [45.64289, 8.795201], [45.643042, 8.794314], [45.643127, 8.793528], [45.643166, 8.792703], [45.643155, 8.79197], [45.643077, 8.791061], [45.642891, 8.789415], [45.642803, 8.788655], [45.642688, 8.787628], [45.642222, 8.783789], [45.64185, 8.780826], [45.641803, 8.780323], [45.64176, 8.779585], [45.641748, 8.778748], [45.641784, 8.777687], [45.641862, 8.776874], [45.641908, 8.776492], [45.642434, 8.772972], [45.643184, 8.767843], [45.644365, 8.759955], [45.644973, 8.755759], [45.645051, 8.755294], [45.645645, 8.751307], [45.645736, 8.750823], [45.645951, 8.75004], [45.646159, 8.749456], [45.646366, 8.749009], [45.6466, 8.74858], [45.64689, 8.748146], [45.647147, 8.747815], [45.647442, 8.747501], [45.647734, 8.747236], [45.649465, 8.745744], [45.650532, 8.744771], [45.650637, 8.744676], [45.650728, 8.744593], [45.650999, 8.744349], [45.65134, 8.744012], [45.651697, 8.743623], [45.65204, 8.7432], [45.652527, 8.742536], [45.65404, 8.740062], [45.654449, 8.73935], [45.654672, 8.738844], [45.65487, 8.738317], [45.655042, 8.737725], [45.655182, 8.737059], [45.655255, 8.73654], [45.655308, 8.735973], [45.655322, 8.735436], [45.65531, 8.734893], [45.655279, 8.734449], [45.655229, 8.734079], [45.655178, 8.733751], [45.654514, 8.730802], [45.654143, 8.729079], [45.653692, 8.727044], [45.65349, 8.725676], [45.653203, 8.724365], [45.653005, 8.723724], [45.652833, 8.723362], [45.652624, 8.723005], [45.652383, 8.722655], [45.652257, 8.722532], [45.652013, 8.722343], [45.651942, 8.722275], [45.651726, 8.722132], [45.651617, 8.722033], [45.651451, 8.721841], [45.651332, 8.721677], [45.651261, 8.721534], [45.651169, 8.721254], [45.65068, 8.719206], [45.650385, 8.718188], [45.650143, 8.717227], [45.648955, 8.711464], [45.648678, 8.710233], [45.648443, 8.709466], [45.648244, 8.70894], [45.648011, 8.708399], [45.647582, 8.707585], [45.64723, 8.707064], [45.646951, 8.706683], [45.646272, 8.705943], [45.645848, 8.705559], [45.645362, 8.705214], [45.64484, 8.704905], [45.643628, 8.704326], [45.642592, 8.70386], [45.641833, 8.703544], [45.639164, 8.702581], [45.637296, 8.702009], [45.636208, 8.701816], [45.635289, 8.701784], [45.634523, 8.701856], [45.633836, 8.701965], [45.633182, 8.702168], [45.632488, 8.702491], [45.630164, 8.703896], [45.628051, 8.704713], [45.627797, 8.704791], [45.627344, 8.704823], [45.627075, 8.704812], [45.626784, 8.704797], [45.626291, 8.704907], [45.625969, 8.705002], [45.625821, 8.705062], [45.625494, 8.705313], [45.62536, 8.705506], [45.625264, 8.705706], [45.625191, 8.705949], [45.62515, 8.706234], [45.625156, 8.70673], [45.625167, 8.707257], [45.625148, 8.707544], [45.625095, 8.707904], [45.625014, 8.708304], [45.62497, 8.708469], [45.624788, 8.708739], [45.624536, 8.709295], [45.624286, 8.709915], [45.624165, 8.710149], [45.623994, 8.710391], [45.623673, 8.710793], [45.623598, 8.710848], [45.623538, 8.710931], [45.623498, 8.711035], [45.62348, 8.711153], [45.623486, 8.711273], [45.623518, 8.711386], [45.62357, 8.71148], [45.623648, 8.711554], [45.623739, 8.711588], [45.623835, 8.711578], [45.623923, 8.711523], [45.623993, 8.711429], [45.624106, 8.711257], [45.624404, 8.711117], [45.624642, 8.71111], [45.624742, 8.711136], [45.624911, 8.711124], [45.625139, 8.711111], [45.625293, 8.711093], [45.626088, 8.710888], [45.6267, 8.710708], [45.626844, 8.710679], [45.626969, 8.710714], [45.627175, 8.710666], [45.627507, 8.710537], [45.627591, 8.710463], [45.627784, 8.710382]],\n",
       "                {&quot;bubblingMouseEvents&quot;: true, &quot;color&quot;: &quot;yellow&quot;, &quot;dashArray&quot;: null, &quot;dashOffset&quot;: null, &quot;fill&quot;: false, &quot;fillColor&quot;: &quot;yellow&quot;, &quot;fillOpacity&quot;: 0.2, &quot;fillRule&quot;: &quot;evenodd&quot;, &quot;lineCap&quot;: &quot;round&quot;, &quot;lineJoin&quot;: &quot;round&quot;, &quot;noClip&quot;: false, &quot;opacity&quot;: 0.8, &quot;smoothFactor&quot;: 1.0, &quot;stroke&quot;: true, &quot;weight&quot;: 5}\n",
       "            ).addTo(map_580c0a49875339f8f3efda14eea6aa90);\n",
       "        \n",
       "&lt;/script&gt;\n",
       "&lt;/html&gt;\" style=\"position:absolute;width:100%;height:100%;left:0;top:0;border:none !important;\" allowfullscreen webkitallowfullscreen mozallowfullscreen></iframe></div></div>"
      ],
      "text/plain": [
       "<folium.folium.Map at 0x1ca5880c290>"
      ]
     },
     "execution_count": 61,
     "metadata": {},
     "output_type": "execute_result"
    }
   ],
   "source": [
    "request_params = {'coordinates': [[9.2411007,45.5146718],[8.71041,45.62779]],\n",
    "                 'format_out': 'geojson',\n",
    "                 'profile': 'driving-car',\n",
    "                 'preference': 'recommended',\n",
    "                 'instructions': True}\n",
    "\n",
    "route_directions = client.directions(**request_params)\n",
    "\n",
    "loc = route_directions['features'][0]['geometry']['coordinates']\n",
    "loc = [(x[1],x[0]) for x in loc]\n",
    "folium.PolyLine(loc,\n",
    "                color='yellow',\n",
    "                weight=5,\n",
    "                opacity=0.8).add_to(m)\n",
    "print(route_directions['features'][0]['properties']['summary'])\n",
    "m"
   ]
  },
  {
   "cell_type": "markdown",
   "metadata": {},
   "source": [
    "We see that there is a seven minute increase in travel time! "
   ]
  }
 ],
 "metadata": {
  "kernelspec": {
   "display_name": "Python 3.11.3 ('mesa')",
   "language": "python",
   "name": "python3"
  },
  "language_info": {
   "codemirror_mode": {
    "name": "ipython",
    "version": 3
   },
   "file_extension": ".py",
   "mimetype": "text/x-python",
   "name": "python",
   "nbconvert_exporter": "python",
   "pygments_lexer": "ipython3",
   "version": "3.11.3"
  },
  "orig_nbformat": 4,
  "vscode": {
   "interpreter": {
    "hash": "dcd034c3cd7fca81abff01d6a637d135f39014f7eb4b5b4a7dafda6e7ff44908"
   }
  }
 },
 "nbformat": 4,
 "nbformat_minor": 2
}
